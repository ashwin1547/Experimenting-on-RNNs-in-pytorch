{
  "nbformat": 4,
  "nbformat_minor": 0,
  "metadata": {
    "colab": {
      "name": "RNN",
      "provenance": [],
      "collapsed_sections": []
    },
    "kernelspec": {
      "name": "python3",
      "display_name": "Python 3"
    },
    "accelerator": "GPU"
  },
  "cells": [
    {
      "cell_type": "markdown",
      "metadata": {
        "id": "Q1MH77vDyy6b",
        "colab_type": "text"
      },
      "source": [
        "**Import Libraries**"
      ]
    },
    {
      "cell_type": "code",
      "metadata": {
        "id": "U3-FpSbS7Mn5",
        "colab_type": "code",
        "colab": {}
      },
      "source": [
        "import matplotlib.pyplot as plt\n",
        "import torch\n",
        "import torch.nn as nn\n",
        "import torch.nn.functional as F\n",
        "import torch.utils.data\n",
        "import torchvision\n",
        "from torch.autograd import Variable\n",
        "from sklearn.model_selection import train_test_split\n",
        "import numpy as np"
      ],
      "execution_count": 0,
      "outputs": []
    },
    {
      "cell_type": "markdown",
      "metadata": {
        "id": "emt3dSzu0NPr",
        "colab_type": "text"
      },
      "source": [
        "#**MNIST Digits Clasification Using RNN**"
      ]
    },
    {
      "cell_type": "markdown",
      "metadata": {
        "id": "G-K-xqV1y_pJ",
        "colab_type": "text"
      },
      "source": [
        "**Downloading Dataset as Torch Tensors**\n",
        "\n",
        "Instructions: Change the root path where you want to download the dataset."
      ]
    },
    {
      "cell_type": "code",
      "metadata": {
        "id": "aJCoc8AR7pXz",
        "colab_type": "code",
        "colab": {}
      },
      "source": [
        "train_data = torchvision.datasets.MNIST(root = '/content/', transform=torchvision.transforms.ToTensor(),train=True, target_transform=None, download=True)\n",
        "test_data = torchvision.datasets.MNIST(root = '/content/',transform=torchvision.transforms.ToTensor(), train=False, target_transform=None, download=True)"
      ],
      "execution_count": 0,
      "outputs": []
    },
    {
      "cell_type": "markdown",
      "metadata": {
        "id": "4ktf7yZAzY_P",
        "colab_type": "text"
      },
      "source": [
        "**Splitting data as train and validation**"
      ]
    },
    {
      "cell_type": "code",
      "metadata": {
        "id": "Ga7UpA9J7u7T",
        "colab_type": "code",
        "colab": {}
      },
      "source": [
        "train_data, val_data = torch.utils.data.random_split(train_data, lengths= [50000,10000])"
      ],
      "execution_count": 0,
      "outputs": []
    },
    {
      "cell_type": "markdown",
      "metadata": {
        "id": "tqjJsde1zrhc",
        "colab_type": "text"
      },
      "source": [
        "**Creates torch data set loader with given batch size**"
      ]
    },
    {
      "cell_type": "code",
      "metadata": {
        "id": "TVKXwjpwTpwT",
        "colab_type": "code",
        "colab": {}
      },
      "source": [
        "train_loader = torch.utils.data.DataLoader(train_data, batch_size = 64, shuffle = True)\n",
        "val_loader = torch.utils.data.DataLoader(val_data, batch_size = 64, shuffle = True)\n",
        "test_loader = torch.utils.data.DataLoader(test_data, batch_size = 64, shuffle = True)"
      ],
      "execution_count": 0,
      "outputs": []
    },
    {
      "cell_type": "markdown",
      "metadata": {
        "id": "HBXrLnUN1S6V",
        "colab_type": "text"
      },
      "source": [
        "#**Using Vanilla RNN Cells**"
      ]
    },
    {
      "cell_type": "markdown",
      "metadata": {
        "id": "UTXIwsKmz8wT",
        "colab_type": "text"
      },
      "source": [
        "**Setting Parameters for RNN model**"
      ]
    },
    {
      "cell_type": "code",
      "metadata": {
        "id": "DyGURUDL8kwN",
        "colab_type": "code",
        "colab": {}
      },
      "source": [
        "sequence_length = 28\n",
        "input_size = 28\n",
        "hidden_size = 128\n",
        "num_layers = 1\n",
        "num_classes = 10\n",
        "batch_size = 64\n",
        "learning_rate = 0.0005"
      ],
      "execution_count": 0,
      "outputs": []
    },
    {
      "cell_type": "code",
      "metadata": {
        "id": "1sME015I95Ly",
        "colab_type": "code",
        "colab": {}
      },
      "source": [
        "\n",
        "class RNN(nn.Module):\n",
        "    def __init__(self, input_size, hidden_size, num_layers, num_classes):\n",
        "        super(RNN, self).__init__()\n",
        "        self.hidden_size = hidden_size\n",
        "        self.num_layers = num_layers\n",
        "        self.RNN = nn.RNN(input_size, hidden_size, num_layers, batch_first=True)\n",
        "        self.fc = nn.Linear(hidden_size, num_classes)\n",
        "    \n",
        "    def forward(self, x):\n",
        "        # Set initial hidden and cell states \n",
        "        c0 = torch.zeros(self.num_layers, x.size(0), self.hidden_size).cuda()\n",
        "        \n",
        "        # Forward propagate RNN\n",
        "        out, _ = self.RNN(x, (c0))  # out: tensor of shape (batch_size, seq_length, hidden_size)\n",
        "        \n",
        "        # Decode the hidden state of the last time step\n",
        "        out = self.fc(out[:, -1, :])\n",
        "        return out\n",
        "\n",
        "model = RNN(input_size, hidden_size, num_layers, num_classes)\n",
        "model = model.cuda()"
      ],
      "execution_count": 0,
      "outputs": []
    },
    {
      "cell_type": "code",
      "metadata": {
        "id": "M0Oe6OExHnbc",
        "colab_type": "code",
        "colab": {}
      },
      "source": [
        "criterion = nn.CrossEntropyLoss()\n",
        "optimizer = torch.optim.Adam(model.parameters(), lr=learning_rate)"
      ],
      "execution_count": 0,
      "outputs": []
    },
    {
      "cell_type": "code",
      "metadata": {
        "id": "WNaMrlf8zR3a",
        "colab_type": "code",
        "colab": {}
      },
      "source": [
        "def predict(loader):\n",
        "    \n",
        "    correct = 0\n",
        "    total = 0\n",
        "    with torch.no_grad():\n",
        "        for data in loader:\n",
        "            images, labels = data\n",
        "            images = images.reshape(-1, sequence_length, input_size)\n",
        "            images = images.cuda()\n",
        "            labels = labels.cuda()\n",
        "            outputs = model(images)\n",
        "            _, predicted = torch.max(outputs.data, 1)\n",
        "            total += labels.size(0)\n",
        "            correct += (predicted == labels).sum().item()\n",
        "    return correct/total\n",
        "         "
      ],
      "execution_count": 0,
      "outputs": []
    },
    {
      "cell_type": "code",
      "metadata": {
        "id": "0zGEal8GHqod",
        "colab_type": "code",
        "colab": {
          "base_uri": "https://localhost:8080/",
          "height": 672
        },
        "outputId": "851c4231-dd15-4cc2-8ddc-1afd6ac26e12"
      },
      "source": [
        "num_epochs = 20\n",
        "total_step = len(train_loader)\n",
        "val_error = []\n",
        "train_error = []\n",
        "j = 0\n",
        "for epoch in range(num_epochs):\n",
        "    for i, (images, labels) in enumerate(train_loader):\n",
        "        j = j + 1\n",
        "        \n",
        "        images = images.reshape(-1, sequence_length, input_size)\n",
        "        images = images.cuda()\n",
        "        labels = labels.cuda()\n",
        "        \n",
        "        # Forward pass\n",
        "        outputs = model(images)\n",
        "        loss = criterion(outputs, labels)\n",
        "        \n",
        "        # Backward and optimize\n",
        "        optimizer.zero_grad()\n",
        "        loss.backward()\n",
        "        optimizer.step()\n",
        "    \n",
        "        \n",
        "        if (j%400==0):\n",
        "          val_acc = predict(val_loader)\n",
        "          train_acc = predict(train_loader)\n",
        "          print('Train Epoch: {} [{}/{}]({:.0f}%)]\\ttrain_acc: {:.6f}\\tval_acc: {:.6f}'.format(\n",
        "                epoch, i * len(images), len(train_loader.dataset),100. * i / len(train_loader),\n",
        "                train_acc,val_acc))\n",
        "          val_error.append(1-train_acc)\n",
        "          train_error.append(1-val_acc)\n",
        "\n",
        "    \n",
        "   "
      ],
      "execution_count": 469,
      "outputs": [
        {
          "output_type": "stream",
          "text": [
            "Train Epoch: 0 [25536/50000](51%)]\ttrain_acc: 0.727860\tval_acc: 0.728200\n",
            "Train Epoch: 1 [1088/50000](2%)]\ttrain_acc: 0.810360\tval_acc: 0.810300\n",
            "Train Epoch: 1 [26688/50000](53%)]\ttrain_acc: 0.851060\tval_acc: 0.849500\n",
            "Train Epoch: 2 [2240/50000](4%)]\ttrain_acc: 0.876880\tval_acc: 0.875000\n",
            "Train Epoch: 2 [27840/50000](56%)]\ttrain_acc: 0.893700\tval_acc: 0.897000\n",
            "Train Epoch: 3 [3392/50000](7%)]\ttrain_acc: 0.922840\tval_acc: 0.923200\n",
            "Train Epoch: 3 [28992/50000](58%)]\ttrain_acc: 0.920320\tval_acc: 0.919300\n",
            "Train Epoch: 4 [4544/50000](9%)]\ttrain_acc: 0.935020\tval_acc: 0.934100\n",
            "Train Epoch: 4 [30144/50000](60%)]\ttrain_acc: 0.931780\tval_acc: 0.929900\n",
            "Train Epoch: 5 [5696/50000](11%)]\ttrain_acc: 0.932960\tval_acc: 0.934400\n",
            "Train Epoch: 5 [31296/50000](63%)]\ttrain_acc: 0.950760\tval_acc: 0.949300\n",
            "Train Epoch: 6 [6848/50000](14%)]\ttrain_acc: 0.951420\tval_acc: 0.948500\n",
            "Train Epoch: 6 [32448/50000](65%)]\ttrain_acc: 0.942540\tval_acc: 0.942600\n",
            "Train Epoch: 7 [8000/50000](16%)]\ttrain_acc: 0.948320\tval_acc: 0.946300\n",
            "Train Epoch: 7 [33600/50000](67%)]\ttrain_acc: 0.955940\tval_acc: 0.954100\n",
            "Train Epoch: 8 [9152/50000](18%)]\ttrain_acc: 0.949100\tval_acc: 0.946900\n",
            "Train Epoch: 8 [34752/50000](69%)]\ttrain_acc: 0.959820\tval_acc: 0.958600\n",
            "Train Epoch: 9 [10304/50000](21%)]\ttrain_acc: 0.957560\tval_acc: 0.953800\n",
            "Train Epoch: 9 [35904/50000](72%)]\ttrain_acc: 0.963620\tval_acc: 0.963000\n",
            "Train Epoch: 10 [11456/50000](23%)]\ttrain_acc: 0.956020\tval_acc: 0.954900\n",
            "Train Epoch: 10 [37056/50000](74%)]\ttrain_acc: 0.960700\tval_acc: 0.957800\n",
            "Train Epoch: 11 [12608/50000](25%)]\ttrain_acc: 0.967880\tval_acc: 0.965100\n",
            "Train Epoch: 11 [38208/50000](76%)]\ttrain_acc: 0.962440\tval_acc: 0.960900\n",
            "Train Epoch: 12 [13760/50000](27%)]\ttrain_acc: 0.969980\tval_acc: 0.965300\n",
            "Train Epoch: 12 [39360/50000](79%)]\ttrain_acc: 0.967680\tval_acc: 0.966000\n",
            "Train Epoch: 13 [14912/50000](30%)]\ttrain_acc: 0.973660\tval_acc: 0.971300\n",
            "Train Epoch: 13 [40512/50000](81%)]\ttrain_acc: 0.964400\tval_acc: 0.958700\n",
            "Train Epoch: 14 [16064/50000](32%)]\ttrain_acc: 0.968520\tval_acc: 0.965500\n",
            "Train Epoch: 14 [41664/50000](83%)]\ttrain_acc: 0.970780\tval_acc: 0.965800\n",
            "Train Epoch: 15 [17216/50000](34%)]\ttrain_acc: 0.965200\tval_acc: 0.961100\n",
            "Train Epoch: 15 [42816/50000](86%)]\ttrain_acc: 0.973540\tval_acc: 0.970700\n",
            "Train Epoch: 16 [18368/50000](37%)]\ttrain_acc: 0.976180\tval_acc: 0.973800\n",
            "Train Epoch: 16 [43968/50000](88%)]\ttrain_acc: 0.968760\tval_acc: 0.965000\n",
            "Train Epoch: 17 [19520/50000](39%)]\ttrain_acc: 0.977780\tval_acc: 0.972400\n",
            "Train Epoch: 17 [45120/50000](90%)]\ttrain_acc: 0.964260\tval_acc: 0.960500\n",
            "Train Epoch: 18 [20672/50000](41%)]\ttrain_acc: 0.976960\tval_acc: 0.971000\n",
            "Train Epoch: 18 [46272/50000](92%)]\ttrain_acc: 0.974400\tval_acc: 0.969800\n",
            "Train Epoch: 19 [21824/50000](44%)]\ttrain_acc: 0.974120\tval_acc: 0.968100\n",
            "Train Epoch: 19 [47424/50000](95%)]\ttrain_acc: 0.973800\tval_acc: 0.968800\n"
          ],
          "name": "stdout"
        }
      ]
    },
    {
      "cell_type": "code",
      "metadata": {
        "id": "WCK6cka2Ol4i",
        "colab_type": "code",
        "colab": {
          "base_uri": "https://localhost:8080/",
          "height": 296
        },
        "outputId": "48213d7a-27e3-4e0f-eb76-83b59f9242ad"
      },
      "source": [
        "epoch = [i for i in range(1,len(val_error)+1)]\n",
        "plt.plot(epoch,val_error,'-r')\n",
        "plt.plot(epoch,train_error,'-b')\n",
        "plt.title('Train and validation error')\n",
        "plt.xlabel('n_iterations')\n",
        "plt.ylabel('Error')\n",
        "plt.gca().legend(('validation error','train error'))\n",
        "plt.show()"
      ],
      "execution_count": 470,
      "outputs": [
        {
          "output_type": "display_data",
          "data": {
            "image/png": "[encoded data removed]",
            "text/plain": [
              "<Figure size 432x288 with 1 Axes>"
            ]
          },
          "metadata": {
            "tags": []
          }
        }
      ]
    },
    {
      "cell_type": "code",
      "metadata": {
        "id": "yUM9_mJYH43Y",
        "colab_type": "code",
        "colab": {
          "base_uri": "https://localhost:8080/",
          "height": 34
        },
        "outputId": "141e41ba-3f71-4f78-8935-f94434cc26af"
      },
      "source": [
        "test_acc = predict(test_loader)\n",
        "print('Test Accuracy on the 10000 test images: %f %%' % (\n",
        "    100 * test_acc))"
      ],
      "execution_count": 472,
      "outputs": [
        {
          "output_type": "stream",
          "text": [
            "Test Accuracy on the 10000 test images: 96.680000 %\n"
          ],
          "name": "stdout"
        }
      ]
    },
    {
      "cell_type": "code",
      "metadata": {
        "id": "8wNruxOEVaJC",
        "colab_type": "code",
        "colab": {
          "base_uri": "https://localhost:8080/",
          "height": 1000
        },
        "outputId": "0a6308c6-7e88-4fdf-a66b-cb1141c8bcf8"
      },
      "source": [
        "for i in range(5):\n",
        "  image, label = next(iter(test_loader))  \n",
        "  image = image[0]\n",
        "  image = torch.squeeze(image)\n",
        "  plt.imshow(image)\n",
        "  plt.show()\n",
        "  label = label[0]\n",
        "  image = image.view(-1, sequence_length, input_size)\n",
        "  image = image.cuda()\n",
        "  label = label.cuda()\n",
        "  output = model(image)\n",
        "  predicted_label = torch.argmax(output)\n",
        "  print('predicted label:',predicted_label.item())\n",
        "  print('true label:',label.item())"
      ],
      "execution_count": 476,
      "outputs": [
        {
          "output_type": "display_data",
          "data": {
            "image/png": "[encoded data removed]",
            "text/plain": [
              "<Figure size 432x288 with 1 Axes>"
            ]
          },
          "metadata": {
            "tags": []
          }
        },
        {
          "output_type": "stream",
          "text": [
            "predicted label: 1\n",
            "true label: 1\n"
          ],
          "name": "stdout"
        },
        {
          "output_type": "display_data",
          "data": {
            "image/png": "[encoded data removed]",
            "text/plain": [
              "<Figure size 432x288 with 1 Axes>"
            ]
          },
          "metadata": {
            "tags": []
          }
        },
        {
          "output_type": "stream",
          "text": [
            "predicted label: 2\n",
            "true label: 2\n"
          ],
          "name": "stdout"
        },
        {
          "output_type": "display_data",
          "data": {
            "image/png": "[encoded data removed]",
            "text/plain": [
              "<Figure size 432x288 with 1 Axes>"
            ]
          },
          "metadata": {
            "tags": []
          }
        },
        {
          "output_type": "stream",
          "text": [
            "predicted label: 6\n",
            "true label: 6\n"
          ],
          "name": "stdout"
        },
        {
          "output_type": "display_data",
          "data": {
            "image/png": "[encoded data removed]",
            "text/plain": [
              "<Figure size 432x288 with 1 Axes>"
            ]
          },
          "metadata": {
            "tags": []
          }
        },
        {
          "output_type": "stream",
          "text": [
            "predicted label: 1\n",
            "true label: 1\n"
          ],
          "name": "stdout"
        },
        {
          "output_type": "display_data",
          "data": {
            "image/png": "[encoded data removed]",
            "text/plain": [
              "<Figure size 432x288 with 1 Axes>"
            ]
          },
          "metadata": {
            "tags": []
          }
        },
        {
          "output_type": "stream",
          "text": [
            "predicted label: 9\n",
            "true label: 9\n"
          ],
          "name": "stdout"
        }
      ]
    },
    {
      "cell_type": "markdown",
      "metadata": {
        "id": "gLqguKsz1eZ9",
        "colab_type": "text"
      },
      "source": [
        "#**Using LSTM Cells**"
      ]
    },
    {
      "cell_type": "code",
      "metadata": {
        "id": "xNjnBMPUidW6",
        "colab_type": "code",
        "colab": {}
      },
      "source": [
        "sequence_length = 28\n",
        "input_size = 28\n",
        "hidden_size = 128\n",
        "num_layers = 1\n",
        "num_classes = 10\n",
        "batch_size = 64\n",
        "learning_rate = 0.002"
      ],
      "execution_count": 0,
      "outputs": []
    },
    {
      "cell_type": "code",
      "metadata": {
        "id": "SET3ZbKLaOYc",
        "colab_type": "code",
        "colab": {}
      },
      "source": [
        "\n",
        "class model_LSTM(nn.Module):\n",
        "    def __init__(self, input_size, hidden_size, num_layers, num_classes):\n",
        "        super(model_LSTM, self).__init__()\n",
        "        self.hidden_size = hidden_size\n",
        "        self.num_layers = num_layers\n",
        "        self.LSTM1 = nn.LSTM(input_size, hidden_size, num_layers, batch_first=True)\n",
        "        self.fc = nn.Linear(hidden_size, num_classes)\n",
        "    \n",
        "    def forward(self, x):\n",
        "        # Set initial hidden and cell states \n",
        "        c0 = torch.zeros(self.num_layers, x.size(0), self.hidden_size).cuda()\n",
        "        h0 = torch.zeros(self.num_layers, x.size(0), self.hidden_size).cuda()\n",
        "        \n",
        "        # Forward propagate RNN\n",
        "        out, _ = self.LSTM1(x, (h0,c0))  # out: tensor of shape (batch_size, seq_length, hidden_size)\n",
        "        \n",
        "        # Decode the hidden state of the last time step\n",
        "        out = self.fc(out[:, -1, :])\n",
        "        return out\n",
        "\n",
        "model = model_LSTM(input_size, hidden_size, num_layers, num_classes)\n",
        "model = model.cuda()"
      ],
      "execution_count": 0,
      "outputs": []
    },
    {
      "cell_type": "code",
      "metadata": {
        "id": "-g_c0FEKdphv",
        "colab_type": "code",
        "colab": {}
      },
      "source": [
        "criterion = nn.CrossEntropyLoss()\n",
        "optimizer = torch.optim.Adam(model.parameters(), lr=learning_rate)"
      ],
      "execution_count": 0,
      "outputs": []
    },
    {
      "cell_type": "code",
      "metadata": {
        "id": "gTbCCzNpQrzM",
        "colab_type": "code",
        "colab": {
          "base_uri": "https://localhost:8080/",
          "height": 336
        },
        "outputId": "7e14ec26-2ad3-443f-92fa-13b749606e25"
      },
      "source": [
        "num_epochs = 10\n",
        "total_step = len(train_loader)\n",
        "val_error = []\n",
        "train_error = []\n",
        "j = 0\n",
        "for epoch in range(num_epochs):\n",
        "    for i, (images, labels) in enumerate(train_loader):\n",
        "        j = j + 1\n",
        "        \n",
        "        images = images.reshape(-1, sequence_length, input_size)\n",
        "        images = images.cuda()\n",
        "        labels = labels.cuda()\n",
        "        \n",
        "        # Forward pass\n",
        "        outputs = model(images)\n",
        "        loss = criterion(outputs, labels)\n",
        "        \n",
        "        # Backward and optimize\n",
        "        optimizer.zero_grad()\n",
        "        loss.backward()\n",
        "        optimizer.step()\n",
        "       \n",
        "        \n",
        "        if (j%400==0):\n",
        "          val_acc = predict(val_loader)\n",
        "          train_acc = predict(train_loader)\n",
        "          print('Train Epoch: {} [{}/{}]({:.0f}%)]\\ttrain_acc: {:.6f}\\tval_acc: {:.6f}'.format(\n",
        "                epoch, i * len(images), len(train_loader.dataset),100. * i / len(train_loader),\n",
        "                train_acc,val_acc))\n",
        "          val_error.append(1-train_acc)\n",
        "          train_error.append(1-val_acc)\n",
        "\n",
        "    \n",
        " "
      ],
      "execution_count": 480,
      "outputs": [
        {
          "output_type": "stream",
          "text": [
            "Train Epoch: 0 [25536/50000](51%)]\ttrain_acc: 0.923500\tval_acc: 0.924500\n",
            "Train Epoch: 1 [1088/50000](2%)]\ttrain_acc: 0.960260\tval_acc: 0.960000\n",
            "Train Epoch: 1 [26688/50000](53%)]\ttrain_acc: 0.969020\tval_acc: 0.969400\n",
            "Train Epoch: 2 [2240/50000](4%)]\ttrain_acc: 0.975580\tval_acc: 0.973700\n",
            "Train Epoch: 2 [27840/50000](56%)]\ttrain_acc: 0.977080\tval_acc: 0.975600\n",
            "Train Epoch: 3 [3392/50000](7%)]\ttrain_acc: 0.979900\tval_acc: 0.973400\n",
            "Train Epoch: 3 [28992/50000](58%)]\ttrain_acc: 0.977920\tval_acc: 0.973800\n",
            "Train Epoch: 4 [4544/50000](9%)]\ttrain_acc: 0.987760\tval_acc: 0.983800\n",
            "Train Epoch: 4 [30144/50000](60%)]\ttrain_acc: 0.986380\tval_acc: 0.982700\n",
            "Train Epoch: 5 [5696/50000](11%)]\ttrain_acc: 0.989160\tval_acc: 0.984100\n",
            "Train Epoch: 5 [31296/50000](63%)]\ttrain_acc: 0.988780\tval_acc: 0.984400\n",
            "Train Epoch: 6 [6848/50000](14%)]\ttrain_acc: 0.992160\tval_acc: 0.986100\n",
            "Train Epoch: 6 [32448/50000](65%)]\ttrain_acc: 0.991760\tval_acc: 0.985200\n",
            "Train Epoch: 7 [8000/50000](16%)]\ttrain_acc: 0.991780\tval_acc: 0.984500\n",
            "Train Epoch: 7 [33600/50000](67%)]\ttrain_acc: 0.990840\tval_acc: 0.984100\n",
            "Train Epoch: 8 [9152/50000](18%)]\ttrain_acc: 0.992100\tval_acc: 0.986300\n",
            "Train Epoch: 8 [34752/50000](69%)]\ttrain_acc: 0.986040\tval_acc: 0.981200\n",
            "Train Epoch: 9 [10304/50000](21%)]\ttrain_acc: 0.990180\tval_acc: 0.983600\n",
            "Train Epoch: 9 [35904/50000](72%)]\ttrain_acc: 0.992980\tval_acc: 0.986100\n"
          ],
          "name": "stdout"
        }
      ]
    },
    {
      "cell_type": "code",
      "metadata": {
        "id": "fWCb3tst2Qs3",
        "colab_type": "code",
        "colab": {
          "base_uri": "https://localhost:8080/",
          "height": 296
        },
        "outputId": "10087aff-c2fe-45a2-f9ac-70ef9f22d04d"
      },
      "source": [
        "epoch = [i for i in range(1,len(val_error)+1)]\n",
        "plt.plot(epoch,val_error,'-r')\n",
        "plt.plot(epoch,train_error,'-b')\n",
        "plt.title('Train and validation error')\n",
        "plt.xlabel('n_iterations')\n",
        "plt.ylabel('Error')\n",
        "plt.gca().legend(('validation error','train error'))\n",
        "plt.show()"
      ],
      "execution_count": 481,
      "outputs": [
        {
          "output_type": "display_data",
          "data": {
            "image/png": "[encoded data removed]",
            "text/plain": [
              "<Figure size 432x288 with 1 Axes>"
            ]
          },
          "metadata": {
            "tags": []
          }
        }
      ]
    },
    {
      "cell_type": "code",
      "metadata": {
        "id": "N1pGbGkzQvnN",
        "colab_type": "code",
        "colab": {
          "base_uri": "https://localhost:8080/",
          "height": 34
        },
        "outputId": "be327a33-cdcd-4758-9925-60c51989ca02"
      },
      "source": [
        "test_acc = predict(test_loader)\n",
        "print('Test Accuracy on the 10000 test images: %f %%' % (\n",
        "    100 * test_acc))"
      ],
      "execution_count": 482,
      "outputs": [
        {
          "output_type": "stream",
          "text": [
            "Test Accuracy on the 10000 test images: 98.010000 %\n"
          ],
          "name": "stdout"
        }
      ]
    },
    {
      "cell_type": "code",
      "metadata": {
        "id": "3qGCikDY5n-E",
        "colab_type": "code",
        "colab": {
          "base_uri": "https://localhost:8080/",
          "height": 1000
        },
        "outputId": "7e8e5243-5e87-436a-d8c7-a4dc1830aa7f"
      },
      "source": [
        "for i in range(5):\n",
        "  image, label = next(iter(test_loader))  \n",
        "  image = image[0]\n",
        "  image = torch.squeeze(image)\n",
        "  plt.imshow(image)\n",
        "  plt.show()\n",
        "  label = label[0]\n",
        "  image = image.view(-1, sequence_length, input_size)\n",
        "  image = image.cuda()\n",
        "  label = label.cuda()\n",
        "  output = model(image)\n",
        "  predicted_label = torch.argmax(output)\n",
        "  print('predicted label:',predicted_label.item())\n",
        "  print('true label:',label.item())"
      ],
      "execution_count": 483,
      "outputs": [
        {
          "output_type": "display_data",
          "data": {
            "image/png": "[encoded data removed]",
            "text/plain": [
              "<Figure size 432x288 with 1 Axes>"
            ]
          },
          "metadata": {
            "tags": []
          }
        },
        {
          "output_type": "stream",
          "text": [
            "predicted label: 5\n",
            "true label: 5\n"
          ],
          "name": "stdout"
        },
        {
          "output_type": "display_data",
          "data": {
            "image/png": "[encoded data removed]",
            "text/plain": [
              "<Figure size 432x288 with 1 Axes>"
            ]
          },
          "metadata": {
            "tags": []
          }
        },
        {
          "output_type": "stream",
          "text": [
            "predicted label: 7\n",
            "true label: 7\n"
          ],
          "name": "stdout"
        },
        {
          "output_type": "display_data",
          "data": {
            "image/png": "[encoded data removed]",
            "text/plain": [
              "<Figure size 432x288 with 1 Axes>"
            ]
          },
          "metadata": {
            "tags": []
          }
        },
        {
          "output_type": "stream",
          "text": [
            "predicted label: 9\n",
            "true label: 9\n"
          ],
          "name": "stdout"
        },
        {
          "output_type": "display_data",
          "data": {
            "image/png": "[encoded data removed]",
            "text/plain": [
              "<Figure size 432x288 with 1 Axes>"
            ]
          },
          "metadata": {
            "tags": []
          }
        },
        {
          "output_type": "stream",
          "text": [
            "predicted label: 0\n",
            "true label: 0\n"
          ],
          "name": "stdout"
        },
        {
          "output_type": "display_data",
          "data": {
            "image/png": "[encoded data removed]",
            "text/plain": [
              "<Figure size 432x288 with 1 Axes>"
            ]
          },
          "metadata": {
            "tags": []
          }
        },
        {
          "output_type": "stream",
          "text": [
            "predicted label: 0\n",
            "true label: 0\n"
          ],
          "name": "stdout"
        }
      ]
    },
    {
      "cell_type": "code",
      "metadata": {
        "id": "JXYRWKuG7l1F",
        "colab_type": "code",
        "colab": {}
      },
      "source": [
        "sequence_length = 28\n",
        "input_size = 28\n",
        "hidden_size = 128\n",
        "num_layers = 1\n",
        "num_classes = 10\n",
        "batch_size = 64\n",
        "learning_rate = 0.002"
      ],
      "execution_count": 0,
      "outputs": []
    },
    {
      "cell_type": "markdown",
      "metadata": {
        "id": "eERbzr-c1yeR",
        "colab_type": "text"
      },
      "source": [
        "#**Using Bidirection LSTM Network**"
      ]
    },
    {
      "cell_type": "code",
      "metadata": {
        "id": "Fx3RJRQmth6L",
        "colab_type": "code",
        "colab": {}
      },
      "source": [
        "\n",
        "class Bidirectional_LSTM(nn.Module):\n",
        "    def __init__(self, input_size, hidden_size, num_layers, num_classes):\n",
        "        super(Bidirectional_LSTM, self).__init__()\n",
        "        self.hidden_size = hidden_size\n",
        "        self.num_layers = num_layers\n",
        "        self.LSTM1 = nn.LSTM(input_size, hidden_size, num_layers, batch_first=True,bidirectional = True)\n",
        "        self.fc = nn.Linear(hidden_size*2, num_classes)\n",
        "    \n",
        "    def forward(self, x):\n",
        "        # Set initial hidden and cell states \n",
        "        c0 = torch.zeros(self.num_layers*2, x.size(0), self.hidden_size).cuda()\n",
        "        h0 = torch.zeros(self.num_layers*2, x.size(0), self.hidden_size).cuda()\n",
        "        \n",
        "        # Forward propagate RNN\n",
        "        out, _ = self.LSTM1(x, (h0,c0))  # out: tensor of shape (batch_size, seq_length, hidden_size)\n",
        "        \n",
        "        # Decode the hidden state of the last time step\n",
        "        out = self.fc(out[:, -1, :])\n",
        "        return out\n",
        "\n",
        "model = Bidirectional_LSTM(input_size, hidden_size, num_layers, num_classes)\n",
        "model = model.cuda()"
      ],
      "execution_count": 0,
      "outputs": []
    },
    {
      "cell_type": "code",
      "metadata": {
        "id": "euC2drFrhkUP",
        "colab_type": "code",
        "colab": {}
      },
      "source": [
        "criterion = nn.CrossEntropyLoss()\n",
        "optimizer = torch.optim.Adam(model.parameters(), lr=learning_rate)"
      ],
      "execution_count": 0,
      "outputs": []
    },
    {
      "cell_type": "code",
      "metadata": {
        "id": "dCGde4OFg85E",
        "colab_type": "code",
        "colab": {
          "base_uri": "https://localhost:8080/",
          "height": 504
        },
        "outputId": "5b297704-a836-41c8-dfef-92b0f2a71235"
      },
      "source": [
        "num_epochs = 15\n",
        "total_step = len(train_loader)\n",
        "val_error = []\n",
        "train_error = []\n",
        "j = 0\n",
        "for epoch in range(num_epochs):\n",
        "    for i, (images, labels) in enumerate(train_loader):\n",
        "        j = j + 1\n",
        "        \n",
        "        images = images.reshape(-1, sequence_length, input_size)\n",
        "        images = images.cuda()\n",
        "        labels = labels.cuda()\n",
        "        \n",
        "        # Forward pass\n",
        "        outputs = model(images)\n",
        "        loss = criterion(outputs, labels)\n",
        "        \n",
        "        # Backward and optimize\n",
        "        optimizer.zero_grad()\n",
        "        loss.backward()\n",
        "        optimizer.step()\n",
        "       \n",
        "        \n",
        "        if (j%400==0):\n",
        "          val_acc = predict(val_loader)\n",
        "          train_acc = predict(train_loader)\n",
        "          print('Train Epoch: {} [{}/{}]({:.0f}%)]\\ttrain_acc: {:.6f}\\tval_acc: {:.6f}'.format(\n",
        "                epoch, i * len(images), len(train_loader.dataset),100. * i / len(train_loader),\n",
        "                train_acc,val_acc))\n",
        "          val_error.append(1-train_acc)\n",
        "          train_error.append(1-val_acc)\n",
        "\n",
        "    \n",
        " "
      ],
      "execution_count": 486,
      "outputs": [
        {
          "output_type": "stream",
          "text": [
            "Train Epoch: 0 [25536/50000](51%)]\ttrain_acc: 0.916420\tval_acc: 0.920700\n",
            "Train Epoch: 1 [1088/50000](2%)]\ttrain_acc: 0.942280\tval_acc: 0.943900\n",
            "Train Epoch: 1 [26688/50000](53%)]\ttrain_acc: 0.961280\tval_acc: 0.960300\n",
            "Train Epoch: 2 [2240/50000](4%)]\ttrain_acc: 0.968040\tval_acc: 0.968200\n",
            "Train Epoch: 2 [27840/50000](56%)]\ttrain_acc: 0.978800\tval_acc: 0.976900\n",
            "Train Epoch: 3 [3392/50000](7%)]\ttrain_acc: 0.976380\tval_acc: 0.974500\n",
            "Train Epoch: 3 [28992/50000](58%)]\ttrain_acc: 0.979380\tval_acc: 0.975200\n",
            "Train Epoch: 4 [4544/50000](9%)]\ttrain_acc: 0.983360\tval_acc: 0.979000\n",
            "Train Epoch: 4 [30144/50000](60%)]\ttrain_acc: 0.983920\tval_acc: 0.979800\n",
            "Train Epoch: 5 [5696/50000](11%)]\ttrain_acc: 0.986360\tval_acc: 0.982400\n",
            "Train Epoch: 5 [31296/50000](63%)]\ttrain_acc: 0.985060\tval_acc: 0.979400\n",
            "Train Epoch: 6 [6848/50000](14%)]\ttrain_acc: 0.989400\tval_acc: 0.985700\n",
            "Train Epoch: 6 [32448/50000](65%)]\ttrain_acc: 0.989060\tval_acc: 0.983500\n",
            "Train Epoch: 7 [8000/50000](16%)]\ttrain_acc: 0.991520\tval_acc: 0.984500\n",
            "Train Epoch: 7 [33600/50000](67%)]\ttrain_acc: 0.981280\tval_acc: 0.975200\n",
            "Train Epoch: 8 [9152/50000](18%)]\ttrain_acc: 0.992820\tval_acc: 0.984900\n",
            "Train Epoch: 8 [34752/50000](69%)]\ttrain_acc: 0.992180\tval_acc: 0.984800\n",
            "Train Epoch: 9 [10304/50000](21%)]\ttrain_acc: 0.989940\tval_acc: 0.981800\n",
            "Train Epoch: 9 [35904/50000](72%)]\ttrain_acc: 0.988760\tval_acc: 0.981700\n",
            "Train Epoch: 10 [11456/50000](23%)]\ttrain_acc: 0.992720\tval_acc: 0.987100\n",
            "Train Epoch: 10 [37056/50000](74%)]\ttrain_acc: 0.989020\tval_acc: 0.983200\n",
            "Train Epoch: 11 [12608/50000](25%)]\ttrain_acc: 0.993240\tval_acc: 0.983200\n",
            "Train Epoch: 11 [38208/50000](76%)]\ttrain_acc: 0.993280\tval_acc: 0.986300\n",
            "Train Epoch: 12 [13760/50000](27%)]\ttrain_acc: 0.991940\tval_acc: 0.983100\n",
            "Train Epoch: 12 [39360/50000](79%)]\ttrain_acc: 0.994200\tval_acc: 0.985900\n",
            "Train Epoch: 13 [14912/50000](30%)]\ttrain_acc: 0.997360\tval_acc: 0.988200\n",
            "Train Epoch: 13 [40512/50000](81%)]\ttrain_acc: 0.995320\tval_acc: 0.987700\n",
            "Train Epoch: 14 [16064/50000](32%)]\ttrain_acc: 0.993840\tval_acc: 0.984800\n",
            "Train Epoch: 14 [41664/50000](83%)]\ttrain_acc: 0.994540\tval_acc: 0.986400\n"
          ],
          "name": "stdout"
        }
      ]
    },
    {
      "cell_type": "code",
      "metadata": {
        "id": "VHVx3o30hISl",
        "colab_type": "code",
        "colab": {
          "base_uri": "https://localhost:8080/",
          "height": 296
        },
        "outputId": "077231c5-9afa-4b32-8fe6-84de2e04e703"
      },
      "source": [
        "epoch = [i for i in range(1,len(val_error)+1)]\n",
        "plt.plot(epoch,val_error,'-r')\n",
        "plt.plot(epoch,train_error,'-b')\n",
        "plt.title('Train and validation error')\n",
        "plt.xlabel('n_iterations')\n",
        "plt.ylabel('Error')\n",
        "plt.gca().legend(('validation error','train error'))\n",
        "plt.show()"
      ],
      "execution_count": 487,
      "outputs": [
        {
          "output_type": "display_data",
          "data": {
            "image/png": "[encoded data removed]",
            "text/plain": [
              "<Figure size 432x288 with 1 Axes>"
            ]
          },
          "metadata": {
            "tags": []
          }
        }
      ]
    },
    {
      "cell_type": "code",
      "metadata": {
        "id": "0hCe0f0wjaf0",
        "colab_type": "code",
        "colab": {
          "base_uri": "https://localhost:8080/",
          "height": 34
        },
        "outputId": "f42f94f0-b15b-4f48-a565-d5f2dc205809"
      },
      "source": [
        "test_acc = predict(test_loader)\n",
        "print('Test Accuracy on the 10000 test images: %f %%' % (\n",
        "    100 * test_acc))"
      ],
      "execution_count": 488,
      "outputs": [
        {
          "output_type": "stream",
          "text": [
            "Test Accuracy on the 10000 test images: 98.700000 %\n"
          ],
          "name": "stdout"
        }
      ]
    },
    {
      "cell_type": "code",
      "metadata": {
        "id": "Z38kpa8I60fb",
        "colab_type": "code",
        "colab": {
          "base_uri": "https://localhost:8080/",
          "height": 1000
        },
        "outputId": "6e015bb3-b06f-47b3-d02b-7118666f78c6"
      },
      "source": [
        "for i in range(5):\n",
        "  image, label = next(iter(test_loader))  \n",
        "  image = image[0]\n",
        "  image = torch.squeeze(image)\n",
        "  plt.imshow(image)\n",
        "  plt.show()\n",
        "  label = label[0]\n",
        "  image = image.view(-1, sequence_length, input_size)\n",
        "  image = image.cuda()\n",
        "  label = label.cuda()\n",
        "  output = model(image)\n",
        "  predicted_label = torch.argmax(output)\n",
        "  print('predicted label:',predicted_label.item())\n",
        "  print('true label:',label.item())"
      ],
      "execution_count": 489,
      "outputs": [
        {
          "output_type": "display_data",
          "data": {
            "image/png": "[encoded data removed]",
            "text/plain": [
              "<Figure size 432x288 with 1 Axes>"
            ]
          },
          "metadata": {
            "tags": []
          }
        },
        {
          "output_type": "stream",
          "text": [
            "predicted label: 2\n",
            "true label: 2\n"
          ],
          "name": "stdout"
        },
        {
          "output_type": "display_data",
          "data": {
            "image/png": "[encoded data removed]",
            "text/plain": [
              "<Figure size 432x288 with 1 Axes>"
            ]
          },
          "metadata": {
            "tags": []
          }
        },
        {
          "output_type": "stream",
          "text": [
            "predicted label: 2\n",
            "true label: 2\n"
          ],
          "name": "stdout"
        },
        {
          "output_type": "display_data",
          "data": {
            "image/png": "[encoded data removed]",
            "text/plain": [
              "<Figure size 432x288 with 1 Axes>"
            ]
          },
          "metadata": {
            "tags": []
          }
        },
        {
          "output_type": "stream",
          "text": [
            "predicted label: 9\n",
            "true label: 9\n"
          ],
          "name": "stdout"
        },
        {
          "output_type": "display_data",
          "data": {
            "image/png": "[encoded data removed]",
            "text/plain": [
              "<Figure size 432x288 with 1 Axes>"
            ]
          },
          "metadata": {
            "tags": []
          }
        },
        {
          "output_type": "stream",
          "text": [
            "predicted label: 0\n",
            "true label: 0\n"
          ],
          "name": "stdout"
        },
        {
          "output_type": "display_data",
          "data": {
            "image/png": "[encoded data removed]",
            "text/plain": [
              "<Figure size 432x288 with 1 Axes>"
            ]
          },
          "metadata": {
            "tags": []
          }
        },
        {
          "output_type": "stream",
          "text": [
            "predicted label: 1\n",
            "true label: 1\n"
          ],
          "name": "stdout"
        }
      ]
    },
    {
      "cell_type": "markdown",
      "metadata": {
        "id": "-NWHTvD57rHf",
        "colab_type": "text"
      },
      "source": [
        "***L-2 regularization for LSTM Model***\n",
        "\n",
        "We simply add weight decay in the optimizer to do L-2 regularization"
      ]
    },
    {
      "cell_type": "code",
      "metadata": {
        "id": "OkM826Im7qbI",
        "colab_type": "code",
        "colab": {}
      },
      "source": [
        "sequence_length = 28\n",
        "input_size = 28\n",
        "hidden_size = 128\n",
        "num_layers = 1\n",
        "num_classes = 10\n",
        "batch_size = 64\n",
        "learning_rate = 0.002"
      ],
      "execution_count": 0,
      "outputs": []
    },
    {
      "cell_type": "code",
      "metadata": {
        "id": "DuyN0k0r8WLn",
        "colab_type": "code",
        "colab": {}
      },
      "source": [
        "\n",
        "class model_LSTM(nn.Module):\n",
        "    def __init__(self, input_size, hidden_size, num_layers, num_classes):\n",
        "        super(model_LSTM, self).__init__()\n",
        "        self.hidden_size = hidden_size\n",
        "        self.num_layers = num_layers\n",
        "        self.LSTM1 = nn.LSTM(input_size, hidden_size, num_layers, batch_first=True)\n",
        "        self.fc = nn.Linear(hidden_size, num_classes)\n",
        "    \n",
        "    def forward(self, x):\n",
        "        # Set initial hidden and cell states \n",
        "        c0 = torch.zeros(self.num_layers, x.size(0), self.hidden_size).cuda()\n",
        "        h0 = torch.zeros(self.num_layers, x.size(0), self.hidden_size).cuda()\n",
        "        \n",
        "        # Forward propagate RNN\n",
        "        out, _ = self.LSTM1(x, (h0,c0))  # out: tensor of shape (batch_size, seq_length, hidden_size)\n",
        "        \n",
        "        # Decode the hidden state of the last time step\n",
        "        out = self.fc(out[:, -1, :])\n",
        "        return out\n",
        "\n",
        "model = model_LSTM(input_size, hidden_size, num_layers, num_classes)\n",
        "model = model.cuda()"
      ],
      "execution_count": 0,
      "outputs": []
    },
    {
      "cell_type": "code",
      "metadata": {
        "id": "Vr6Kxmaf8ljR",
        "colab_type": "code",
        "colab": {}
      },
      "source": [
        "criterion = nn.CrossEntropyLoss()\n",
        "optimizer = torch.optim.Adam(model.parameters(), lr=learning_rate,weight_decay=1e-4)"
      ],
      "execution_count": 0,
      "outputs": []
    },
    {
      "cell_type": "code",
      "metadata": {
        "id": "gzQOyPcc9cSD",
        "colab_type": "code",
        "colab": {
          "base_uri": "https://localhost:8080/",
          "height": 336
        },
        "outputId": "a0cacce9-8092-4921-df5e-3aacaba58fe3"
      },
      "source": [
        "num_epochs = 10\n",
        "total_step = len(train_loader)\n",
        "val_error = []\n",
        "train_error = []\n",
        "j = 0\n",
        "for epoch in range(num_epochs):\n",
        "    for i, (images, labels) in enumerate(train_loader):\n",
        "        j = j + 1\n",
        "        \n",
        "        images = images.reshape(-1, sequence_length, input_size)\n",
        "        images = images.cuda()\n",
        "        labels = labels.cuda()\n",
        "        \n",
        "        # Forward pass\n",
        "        outputs = model(images)\n",
        "        loss = criterion(outputs, labels)\n",
        "        \n",
        "        # Backward and optimize\n",
        "        optimizer.zero_grad()\n",
        "        loss.backward()\n",
        "        optimizer.step()\n",
        "       \n",
        "        \n",
        "        if (j%400==0):\n",
        "          val_acc = predict(val_loader)\n",
        "          train_acc = predict(train_loader)\n",
        "          print('Train Epoch: {} [{}/{}]({:.0f}%)]\\ttrain_acc: {:.6f}\\tval_acc: {:.6f}'.format(\n",
        "                epoch, i * len(images), len(train_loader.dataset),100. * i / len(train_loader),\n",
        "                train_acc,val_acc))\n",
        "          val_error.append(1-train_acc)\n",
        "          train_error.append(1-val_acc)\n",
        "\n",
        "    \n",
        " "
      ],
      "execution_count": 496,
      "outputs": [
        {
          "output_type": "stream",
          "text": [
            "Train Epoch: 0 [25536/50000](51%)]\ttrain_acc: 0.915240\tval_acc: 0.917300\n",
            "Train Epoch: 1 [1088/50000](2%)]\ttrain_acc: 0.957040\tval_acc: 0.956000\n",
            "Train Epoch: 1 [26688/50000](53%)]\ttrain_acc: 0.969280\tval_acc: 0.967700\n",
            "Train Epoch: 2 [2240/50000](4%)]\ttrain_acc: 0.972580\tval_acc: 0.970900\n",
            "Train Epoch: 2 [27840/50000](56%)]\ttrain_acc: 0.963260\tval_acc: 0.961300\n",
            "Train Epoch: 3 [3392/50000](7%)]\ttrain_acc: 0.973920\tval_acc: 0.971800\n",
            "Train Epoch: 3 [28992/50000](58%)]\ttrain_acc: 0.982720\tval_acc: 0.980900\n",
            "Train Epoch: 4 [4544/50000](9%)]\ttrain_acc: 0.963360\tval_acc: 0.960600\n",
            "Train Epoch: 4 [30144/50000](60%)]\ttrain_acc: 0.984560\tval_acc: 0.979100\n",
            "Train Epoch: 5 [5696/50000](11%)]\ttrain_acc: 0.984940\tval_acc: 0.981800\n",
            "Train Epoch: 5 [31296/50000](63%)]\ttrain_acc: 0.986640\tval_acc: 0.984100\n",
            "Train Epoch: 6 [6848/50000](14%)]\ttrain_acc: 0.984360\tval_acc: 0.979500\n",
            "Train Epoch: 6 [32448/50000](65%)]\ttrain_acc: 0.988820\tval_acc: 0.983100\n",
            "Train Epoch: 7 [8000/50000](16%)]\ttrain_acc: 0.989460\tval_acc: 0.984500\n",
            "Train Epoch: 7 [33600/50000](67%)]\ttrain_acc: 0.989540\tval_acc: 0.986300\n",
            "Train Epoch: 8 [9152/50000](18%)]\ttrain_acc: 0.988800\tval_acc: 0.983000\n",
            "Train Epoch: 8 [34752/50000](69%)]\ttrain_acc: 0.988720\tval_acc: 0.983200\n",
            "Train Epoch: 9 [10304/50000](21%)]\ttrain_acc: 0.987620\tval_acc: 0.983800\n",
            "Train Epoch: 9 [35904/50000](72%)]\ttrain_acc: 0.991140\tval_acc: 0.986800\n"
          ],
          "name": "stdout"
        }
      ]
    },
    {
      "cell_type": "code",
      "metadata": {
        "id": "3r6QN-JP-O-0",
        "colab_type": "code",
        "colab": {
          "base_uri": "https://localhost:8080/",
          "height": 296
        },
        "outputId": "4ae7d32b-07d9-4fd9-fc7a-a1099a2b955b"
      },
      "source": [
        "epoch = [i for i in range(1,len(val_error)+1)]\n",
        "plt.plot(epoch,val_error,'-r')\n",
        "plt.plot(epoch,train_error,'-b')\n",
        "plt.title('Train and validation error')\n",
        "plt.xlabel('n_iterations')\n",
        "plt.ylabel('Error')\n",
        "plt.gca().legend(('validation error','train error'))\n",
        "plt.show()"
      ],
      "execution_count": 502,
      "outputs": [
        {
          "output_type": "display_data",
          "data": {
            "image/png": "[encoded data removed]",
            "text/plain": [
              "<Figure size 432x288 with 1 Axes>"
            ]
          },
          "metadata": {
            "tags": []
          }
        }
      ]
    },
    {
      "cell_type": "markdown",
      "metadata": {
        "id": "kTTZevoMnIQh",
        "colab_type": "text"
      },
      "source": [
        "Convergence is faster after adding l2 regularization also there is improvement in the test accuracy"
      ]
    },
    {
      "cell_type": "code",
      "metadata": {
        "id": "aVjnJ5sv-afw",
        "colab_type": "code",
        "colab": {
          "base_uri": "https://localhost:8080/",
          "height": 34
        },
        "outputId": "d83d5438-c206-400c-8e4a-a8740765fbf2"
      },
      "source": [
        "test_acc = predict(test_loader)\n",
        "print('Test Accuracy on the 10000 test images: %f %%' % (\n",
        "    100 * test_acc))"
      ],
      "execution_count": 498,
      "outputs": [
        {
          "output_type": "stream",
          "text": [
            "Test Accuracy on the 10000 test images: 98.500000 %\n"
          ],
          "name": "stdout"
        }
      ]
    },
    {
      "cell_type": "code",
      "metadata": {
        "id": "JFR0FvMr-VPX",
        "colab_type": "code",
        "colab": {
          "base_uri": "https://localhost:8080/",
          "height": 1000
        },
        "outputId": "f822ca49-68ed-49c7-ff5b-5ff84575f771"
      },
      "source": [
        "for i in range(5):\n",
        "  image, label = next(iter(test_loader))  \n",
        "  image = image[0]\n",
        "  image = torch.squeeze(image)\n",
        "  plt.imshow(image)\n",
        "  plt.show()\n",
        "  label = label[0]\n",
        "  image = image.view(-1, sequence_length, input_size)\n",
        "  image = image.cuda()\n",
        "  label = label.cuda()\n",
        "  output = model(image)\n",
        "  predicted_label = torch.argmax(output)\n",
        "  print('predicted label:',predicted_label.item())\n",
        "  print('true label:',label.item())"
      ],
      "execution_count": 499,
      "outputs": [
        {
          "output_type": "display_data",
          "data": {
            "image/png": "[encoded data removed]",
            "text/plain": [
              "<Figure size 432x288 with 1 Axes>"
            ]
          },
          "metadata": {
            "tags": []
          }
        },
        {
          "output_type": "stream",
          "text": [
            "predicted label: 1\n",
            "true label: 1\n"
          ],
          "name": "stdout"
        },
        {
          "output_type": "display_data",
          "data": {
            "image/png": "[encoded data removed]",
            "text/plain": [
              "<Figure size 432x288 with 1 Axes>"
            ]
          },
          "metadata": {
            "tags": []
          }
        },
        {
          "output_type": "stream",
          "text": [
            "predicted label: 1\n",
            "true label: 1\n"
          ],
          "name": "stdout"
        },
        {
          "output_type": "display_data",
          "data": {
            "image/png": "[encoded data removed]",
            "text/plain": [
              "<Figure size 432x288 with 1 Axes>"
            ]
          },
          "metadata": {
            "tags": []
          }
        },
        {
          "output_type": "stream",
          "text": [
            "predicted label: 2\n",
            "true label: 2\n"
          ],
          "name": "stdout"
        },
        {
          "output_type": "display_data",
          "data": {
            "image/png": "[encoded data removed]",
            "text/plain": [
              "<Figure size 432x288 with 1 Axes>"
            ]
          },
          "metadata": {
            "tags": []
          }
        },
        {
          "output_type": "stream",
          "text": [
            "predicted label: 6\n",
            "true label: 6\n"
          ],
          "name": "stdout"
        },
        {
          "output_type": "display_data",
          "data": {
            "image/png": "[encoded data removed]",
            "text/plain": [
              "<Figure size 432x288 with 1 Axes>"
            ]
          },
          "metadata": {
            "tags": []
          }
        },
        {
          "output_type": "stream",
          "text": [
            "predicted label: 3\n",
            "true label: 3\n"
          ],
          "name": "stdout"
        }
      ]
    },
    {
      "cell_type": "markdown",
      "metadata": {
        "id": "Jx--GPsb2YW4",
        "colab_type": "text"
      },
      "source": [
        "#**Remembering the number at a particular index in a given sequence**"
      ]
    },
    {
      "cell_type": "code",
      "metadata": {
        "id": "doE27oR5n3Q2",
        "colab_type": "code",
        "colab": {}
      },
      "source": [
        "position = 3                           #position to be remembered"
      ],
      "execution_count": 0,
      "outputs": []
    },
    {
      "cell_type": "code",
      "metadata": {
        "id": "w-oxx5Vpxf5f",
        "colab_type": "code",
        "colab": {}
      },
      "source": [
        "def generate_random_sample():\n",
        "    random_length = np.random.randint(3,11)\n",
        "    return np.random.randint(0,10,random_length)"
      ],
      "execution_count": 0,
      "outputs": []
    },
    {
      "cell_type": "code",
      "metadata": {
        "id": "3eVnCyszm2gl",
        "colab_type": "code",
        "colab": {}
      },
      "source": [
        "def one_hot(a, num_classes):\n",
        "  return np.squeeze(np.eye(num_classes)[a.reshape(-1)])"
      ],
      "execution_count": 0,
      "outputs": []
    },
    {
      "cell_type": "code",
      "metadata": {
        "id": "MfktdfOJpMn9",
        "colab_type": "code",
        "colab": {}
      },
      "source": [
        "def train_sample():\n",
        "  \n",
        "  grs = generate_random_sample()\n",
        "  input1 = one_hot(grs,10).tolist()\n",
        "  \n",
        "  return (input1,grs[position-1])"
      ],
      "execution_count": 0,
      "outputs": []
    },
    {
      "cell_type": "markdown",
      "metadata": {
        "id": "LAxilyGo_31V",
        "colab_type": "text"
      },
      "source": [
        "**Creating Dataset**\n"
      ]
    },
    {
      "cell_type": "code",
      "metadata": {
        "id": "h4jz3Ewj-z89",
        "colab_type": "code",
        "colab": {}
      },
      "source": [
        "data_size = 20000\n",
        "data = []\n",
        "\n",
        "for i in range(data_size):\n",
        "  zero_pad = torch.zeros(10,10)\n",
        "  \n",
        "  ts =  train_sample()\n",
        "  sample = ts[0]\n",
        "  label = ts[1]\n",
        "  zero_pad[:len(sample),:] = torch.FloatTensor(sample)\n",
        "  data.append((zero_pad,label))\n",
        "  "
      ],
      "execution_count": 0,
      "outputs": []
    },
    {
      "cell_type": "code",
      "metadata": {
        "id": "DKIsUVvGvO5G",
        "colab_type": "code",
        "colab": {}
      },
      "source": [
        "train_data,test_data, val_data = torch.utils.data.random_split(data, lengths= [16000,2000,2000])"
      ],
      "execution_count": 0,
      "outputs": []
    },
    {
      "cell_type": "code",
      "metadata": {
        "id": "bD1vnci-35cM",
        "colab_type": "code",
        "colab": {}
      },
      "source": [
        "train_loader = torch.utils.data.DataLoader(train_data, batch_size = 64, shuffle = True)\n",
        "val_loader = torch.utils.data.DataLoader(val_data, batch_size = 64, shuffle = True)\n",
        "test_loader = torch.utils.data.DataLoader(test_data, batch_size = 64, shuffle = True)"
      ],
      "execution_count": 0,
      "outputs": []
    },
    {
      "cell_type": "markdown",
      "metadata": {
        "id": "7kUnmfD0NXKb",
        "colab_type": "text"
      },
      "source": [
        "**hidden size = 2**"
      ]
    },
    {
      "cell_type": "code",
      "metadata": {
        "id": "qOes94UK4B3o",
        "colab_type": "code",
        "colab": {}
      },
      "source": [
        "sequence_length = 10\n",
        "input_size = 10\n",
        "hidden_size = 2\n",
        "num_layers = 2\n",
        "num_classes = 10\n",
        "#batch_size = 64\n",
        "learning_rate = 0.009\n"
      ],
      "execution_count": 0,
      "outputs": []
    },
    {
      "cell_type": "code",
      "metadata": {
        "id": "-lXHh-RdyzjG",
        "colab_type": "code",
        "colab": {}
      },
      "source": [
        "\n",
        "class RNN(nn.Module):\n",
        "    def __init__(self, input_size, hidden_size, num_layers, num_classes):\n",
        "        super(RNN, self).__init__()\n",
        "        self.hidden_size = hidden_size\n",
        "        self.num_layers = num_layers\n",
        "        self.RNN = nn.RNN(input_size, hidden_size, num_layers, batch_first=True)\n",
        "        self.fc = nn.Linear(hidden_size, num_classes)\n",
        "    \n",
        "    def forward(self, x):\n",
        "        # Set initial hidden and cell states \n",
        "        c0 = torch.zeros(self.num_layers, x.size(0), self.hidden_size)\n",
        "        \n",
        "        # Forward propagate RNN\n",
        "        out, _ = self.RNN(x,c0)  # out: tensor of shape (batch_size, seq_length, hidden_size)\n",
        "        \n",
        "        # Decode the hidden state of the last time step\n",
        "        out = self.fc(out[:, -1, :])\n",
        "        return out\n",
        "\n",
        "model = RNN(input_size, hidden_size, num_layers, num_classes)\n",
        "model = model"
      ],
      "execution_count": 0,
      "outputs": []
    },
    {
      "cell_type": "code",
      "metadata": {
        "id": "jhOQALTDzSic",
        "colab_type": "code",
        "colab": {}
      },
      "source": [
        "criterion = nn.CrossEntropyLoss()\n",
        "optimizer = torch.optim.Adam(model.parameters(), lr=learning_rate)"
      ],
      "execution_count": 0,
      "outputs": []
    },
    {
      "cell_type": "code",
      "metadata": {
        "id": "VHwEp7HGDGCb",
        "colab_type": "code",
        "colab": {}
      },
      "source": [
        "def predict(loader):\n",
        "    \n",
        "    correct = 0\n",
        "    total = 0\n",
        "    with torch.no_grad():\n",
        "        for data in loader:\n",
        "            images, labels = data\n",
        "            images = images.reshape(-1, sequence_length, input_size)\n",
        "            images = images\n",
        "            labels = labels\n",
        "            outputs = model(images)\n",
        "            _, predicted = torch.max(outputs.data, 1)\n",
        "            total += labels.size(0)\n",
        "            correct += (predicted == labels).sum().item()\n",
        "    return correct/total\n",
        "         "
      ],
      "execution_count": 0,
      "outputs": []
    },
    {
      "cell_type": "code",
      "metadata": {
        "id": "0XBSrF0v0pO2",
        "colab_type": "code",
        "colab": {
          "base_uri": "https://localhost:8080/",
          "height": 1000
        },
        "outputId": "d11922fa-92c3-4e3f-d0ba-e04c138ecd17"
      },
      "source": [
        "num_epochs = 50\n",
        "total_step = len(train_loader)\n",
        "val_error = []\n",
        "train_error = []\n",
        "j = 0\n",
        "for epoch in range(num_epochs):\n",
        "    for i, (images, labels) in enumerate(train_loader):\n",
        "        j = j + 1\n",
        "        \n",
        "        images = images.reshape(-1, sequence_length, input_size)\n",
        "        images = images\n",
        "        labels = labels\n",
        "        \n",
        "        # Forward pass\n",
        "        outputs = model(images)\n",
        "        loss = criterion(outputs, labels)\n",
        "        \n",
        "        # Backward and optimize\n",
        "        optimizer.zero_grad()\n",
        "        loss.backward()\n",
        "        optimizer.step()\n",
        "        \n",
        "        \n",
        "        if (j%200==0):\n",
        "          val_acc = predict(val_loader)\n",
        "          train_acc = predict(train_loader)\n",
        "          print('Train Epoch: {} [{}/{}]({:.0f}%)]\\ttrain_acc: {:.6f}\\tval_acc: {:.6f}'.format(\n",
        "                epoch, i * len(images), len(train_loader.dataset),100. * i / len(train_loader),\n",
        "                train_acc,val_acc))\n",
        "          val_error.append(1-train_acc)\n",
        "          train_error.append(1-val_acc)\n",
        "\n",
        "    \n",
        "   "
      ],
      "execution_count": 645,
      "outputs": [
        {
          "output_type": "stream",
          "text": [
            "Train Epoch: 0 [12736/16000](80%)]\ttrain_acc: 0.101938\tval_acc: 0.105000\n",
            "Train Epoch: 1 [9536/16000](60%)]\ttrain_acc: 0.104875\tval_acc: 0.105500\n",
            "Train Epoch: 2 [6336/16000](40%)]\ttrain_acc: 0.099250\tval_acc: 0.092000\n",
            "Train Epoch: 3 [3136/16000](20%)]\ttrain_acc: 0.099062\tval_acc: 0.095500\n",
            "Train Epoch: 3 [15936/16000](100%)]\ttrain_acc: 0.107063\tval_acc: 0.104500\n",
            "Train Epoch: 4 [12736/16000](80%)]\ttrain_acc: 0.107313\tval_acc: 0.090000\n",
            "Train Epoch: 5 [9536/16000](60%)]\ttrain_acc: 0.106938\tval_acc: 0.089500\n",
            "Train Epoch: 6 [6336/16000](40%)]\ttrain_acc: 0.101250\tval_acc: 0.098000\n",
            "Train Epoch: 7 [3136/16000](20%)]\ttrain_acc: 0.106563\tval_acc: 0.105500\n",
            "Train Epoch: 7 [15936/16000](100%)]\ttrain_acc: 0.107750\tval_acc: 0.093000\n",
            "Train Epoch: 8 [12736/16000](80%)]\ttrain_acc: 0.117750\tval_acc: 0.115500\n",
            "Train Epoch: 9 [9536/16000](60%)]\ttrain_acc: 0.201125\tval_acc: 0.187500\n",
            "Train Epoch: 10 [6336/16000](40%)]\ttrain_acc: 0.200687\tval_acc: 0.200500\n",
            "Train Epoch: 11 [3136/16000](20%)]\ttrain_acc: 0.197937\tval_acc: 0.205500\n",
            "Train Epoch: 11 [15936/16000](100%)]\ttrain_acc: 0.206875\tval_acc: 0.193500\n",
            "Train Epoch: 12 [12736/16000](80%)]\ttrain_acc: 0.210938\tval_acc: 0.197500\n",
            "Train Epoch: 13 [9536/16000](60%)]\ttrain_acc: 0.209813\tval_acc: 0.199000\n",
            "Train Epoch: 14 [6336/16000](40%)]\ttrain_acc: 0.205875\tval_acc: 0.191500\n",
            "Train Epoch: 15 [3136/16000](20%)]\ttrain_acc: 0.208375\tval_acc: 0.212000\n",
            "Train Epoch: 15 [15936/16000](100%)]\ttrain_acc: 0.207937\tval_acc: 0.196000\n",
            "Train Epoch: 16 [12736/16000](80%)]\ttrain_acc: 0.212250\tval_acc: 0.198000\n",
            "Train Epoch: 17 [9536/16000](60%)]\ttrain_acc: 0.210000\tval_acc: 0.189500\n",
            "Train Epoch: 18 [6336/16000](40%)]\ttrain_acc: 0.213625\tval_acc: 0.200500\n",
            "Train Epoch: 19 [3136/16000](20%)]\ttrain_acc: 0.206813\tval_acc: 0.208500\n",
            "Train Epoch: 19 [15936/16000](100%)]\ttrain_acc: 0.210000\tval_acc: 0.198500\n",
            "Train Epoch: 20 [12736/16000](80%)]\ttrain_acc: 0.211938\tval_acc: 0.205500\n",
            "Train Epoch: 21 [9536/16000](60%)]\ttrain_acc: 0.205125\tval_acc: 0.217500\n",
            "Train Epoch: 22 [6336/16000](40%)]\ttrain_acc: 0.209437\tval_acc: 0.192500\n",
            "Train Epoch: 23 [3136/16000](20%)]\ttrain_acc: 0.205250\tval_acc: 0.208000\n",
            "Train Epoch: 23 [15936/16000](100%)]\ttrain_acc: 0.233750\tval_acc: 0.218500\n",
            "Train Epoch: 24 [12736/16000](80%)]\ttrain_acc: 0.212312\tval_acc: 0.208000\n",
            "Train Epoch: 25 [9536/16000](60%)]\ttrain_acc: 0.294812\tval_acc: 0.285500\n",
            "Train Epoch: 26 [6336/16000](40%)]\ttrain_acc: 0.250437\tval_acc: 0.241000\n",
            "Train Epoch: 27 [3136/16000](20%)]\ttrain_acc: 0.403813\tval_acc: 0.385000\n",
            "Train Epoch: 27 [15936/16000](100%)]\ttrain_acc: 0.415438\tval_acc: 0.405000\n",
            "Train Epoch: 28 [12736/16000](80%)]\ttrain_acc: 0.485438\tval_acc: 0.458500\n",
            "Train Epoch: 29 [9536/16000](60%)]\ttrain_acc: 0.442063\tval_acc: 0.426500\n",
            "Train Epoch: 30 [6336/16000](40%)]\ttrain_acc: 0.534125\tval_acc: 0.511500\n",
            "Train Epoch: 31 [3136/16000](20%)]\ttrain_acc: 0.535937\tval_acc: 0.514500\n",
            "Train Epoch: 31 [15936/16000](100%)]\ttrain_acc: 0.503125\tval_acc: 0.487500\n",
            "Train Epoch: 32 [12736/16000](80%)]\ttrain_acc: 0.598688\tval_acc: 0.593000\n",
            "Train Epoch: 33 [9536/16000](60%)]\ttrain_acc: 0.504250\tval_acc: 0.488500\n",
            "Train Epoch: 34 [6336/16000](40%)]\ttrain_acc: 0.669750\tval_acc: 0.654000\n",
            "Train Epoch: 35 [3136/16000](20%)]\ttrain_acc: 0.610000\tval_acc: 0.588000\n",
            "Train Epoch: 35 [15936/16000](100%)]\ttrain_acc: 0.655625\tval_acc: 0.626000\n",
            "Train Epoch: 36 [12736/16000](80%)]\ttrain_acc: 0.619188\tval_acc: 0.588000\n",
            "Train Epoch: 37 [9536/16000](60%)]\ttrain_acc: 0.657062\tval_acc: 0.630500\n",
            "Train Epoch: 38 [6336/16000](40%)]\ttrain_acc: 0.622125\tval_acc: 0.594000\n",
            "Train Epoch: 39 [3136/16000](20%)]\ttrain_acc: 0.682125\tval_acc: 0.661500\n",
            "Train Epoch: 39 [15936/16000](100%)]\ttrain_acc: 0.637000\tval_acc: 0.603000\n",
            "Train Epoch: 40 [12736/16000](80%)]\ttrain_acc: 0.711688\tval_acc: 0.692500\n",
            "Train Epoch: 41 [9536/16000](60%)]\ttrain_acc: 0.677375\tval_acc: 0.650000\n",
            "Train Epoch: 42 [6336/16000](40%)]\ttrain_acc: 0.699250\tval_acc: 0.678500\n",
            "Train Epoch: 43 [3136/16000](20%)]\ttrain_acc: 0.739437\tval_acc: 0.727000\n",
            "Train Epoch: 43 [15936/16000](100%)]\ttrain_acc: 0.743250\tval_acc: 0.723000\n",
            "Train Epoch: 44 [12736/16000](80%)]\ttrain_acc: 0.518625\tval_acc: 0.521500\n",
            "Train Epoch: 45 [9536/16000](60%)]\ttrain_acc: 0.736812\tval_acc: 0.722500\n",
            "Train Epoch: 46 [6336/16000](40%)]\ttrain_acc: 0.705438\tval_acc: 0.687000\n",
            "Train Epoch: 47 [3136/16000](20%)]\ttrain_acc: 0.772250\tval_acc: 0.757000\n",
            "Train Epoch: 47 [15936/16000](100%)]\ttrain_acc: 0.766437\tval_acc: 0.748000\n",
            "Train Epoch: 48 [12736/16000](80%)]\ttrain_acc: 0.767312\tval_acc: 0.745500\n",
            "Train Epoch: 49 [9536/16000](60%)]\ttrain_acc: 0.819375\tval_acc: 0.814000\n"
          ],
          "name": "stdout"
        }
      ]
    },
    {
      "cell_type": "code",
      "metadata": {
        "id": "PLeOcPiz51ur",
        "colab_type": "code",
        "colab": {
          "base_uri": "https://localhost:8080/",
          "height": 296
        },
        "outputId": "797ecef9-d6e5-4553-d971-a31e8ee91641"
      },
      "source": [
        "epoch = [i for i in range(1,len(val_error)+1)]\n",
        "plt.plot(epoch,val_error,'-r')\n",
        "plt.plot(epoch,train_error,'-b')\n",
        "plt.title('Train and validation error')\n",
        "plt.xlabel('n_iterations')\n",
        "plt.ylabel('Error')\n",
        "plt.gca().legend(('validation error','train error'))\n",
        "plt.show()"
      ],
      "execution_count": 647,
      "outputs": [
        {
          "output_type": "display_data",
          "data": {
            "image/png": "[encoded data removed]",
            "text/plain": [
              "<Figure size 432x288 with 1 Axes>"
            ]
          },
          "metadata": {
            "tags": []
          }
        }
      ]
    },
    {
      "cell_type": "code",
      "metadata": {
        "id": "7EZ-ZKnJRN5f",
        "colab_type": "code",
        "colab": {
          "base_uri": "https://localhost:8080/",
          "height": 34
        },
        "outputId": "c6a9e491-0cd7-482c-c8e8-e663a79ca78c"
      },
      "source": [
        "print('test accuracy:',predict(test_loader))"
      ],
      "execution_count": 648,
      "outputs": [
        {
          "output_type": "stream",
          "text": [
            "test accuracy: 0.823\n"
          ],
          "name": "stdout"
        }
      ]
    },
    {
      "cell_type": "markdown",
      "metadata": {
        "id": "x9AS7P3ARejG",
        "colab_type": "text"
      },
      "source": [
        "**Hidden Size = 3**"
      ]
    },
    {
      "cell_type": "code",
      "metadata": {
        "id": "IuRhP16J7vCd",
        "colab_type": "code",
        "colab": {}
      },
      "source": [
        "sequence_length = 10\n",
        "input_size = 10\n",
        "hidden_size = 3\n",
        "num_layers = 2\n",
        "num_classes = 10\n",
        "#batch_size = 64\n",
        "learning_rate = 0.001\n"
      ],
      "execution_count": 0,
      "outputs": []
    },
    {
      "cell_type": "code",
      "metadata": {
        "id": "V6s2nLQ-OL0c",
        "colab_type": "code",
        "colab": {}
      },
      "source": [
        "\n",
        "class RNN(nn.Module):\n",
        "    def __init__(self, input_size, hidden_size, num_layers, num_classes):\n",
        "        super(RNN, self).__init__()\n",
        "        self.hidden_size = hidden_size\n",
        "        self.num_layers = num_layers\n",
        "        self.RNN = nn.RNN(input_size, hidden_size, num_layers, batch_first=True)\n",
        "        self.fc = nn.Linear(hidden_size, num_classes)\n",
        "    \n",
        "    def forward(self, x):\n",
        "        # Set initial hidden and cell states \n",
        "        c0 = torch.zeros(self.num_layers, x.size(0), self.hidden_size)\n",
        "        \n",
        "        # Forward propagate RNN\n",
        "        out, _ = self.RNN(x,c0)  # out: tensor of shape (batch_size, seq_length, hidden_size)\n",
        "        \n",
        "        # Decode the hidden state of the last time step\n",
        "        out = self.fc(out[:, -1, :])\n",
        "        return out\n",
        "\n",
        "model = RNN(input_size, hidden_size, num_layers, num_classes)\n",
        "model = model"
      ],
      "execution_count": 0,
      "outputs": []
    },
    {
      "cell_type": "code",
      "metadata": {
        "id": "auVbTeC9RvRD",
        "colab_type": "code",
        "colab": {}
      },
      "source": [
        "criterion = nn.CrossEntropyLoss()\n",
        "optimizer = torch.optim.Adam(model.parameters(), lr=learning_rate)"
      ],
      "execution_count": 0,
      "outputs": []
    },
    {
      "cell_type": "code",
      "metadata": {
        "id": "_UykolqtRzTj",
        "colab_type": "code",
        "colab": {
          "base_uri": "https://localhost:8080/",
          "height": 1000
        },
        "outputId": "a5a76456-5fae-4cfe-d091-30608c4f0fb6"
      },
      "source": [
        "num_epochs = 50\n",
        "total_step = len(train_loader)\n",
        "val_error = []\n",
        "train_error = []\n",
        "j = 0\n",
        "for epoch in range(num_epochs):\n",
        "    for i, (images, labels) in enumerate(train_loader):\n",
        "        j = j + 1\n",
        "        \n",
        "        images = images.reshape(-1, sequence_length, input_size)\n",
        "        images = images\n",
        "        labels = labels\n",
        "        \n",
        "        # Forward pass\n",
        "        outputs = model(images)\n",
        "        loss = criterion(outputs, labels)\n",
        "        \n",
        "        # Backward and optimize\n",
        "        optimizer.zero_grad()\n",
        "        loss.backward()\n",
        "        optimizer.step()\n",
        "        \n",
        "        \n",
        "        if (j%200==0):\n",
        "          val_acc = predict(val_loader)\n",
        "          train_acc = predict(train_loader)\n",
        "          print('Train Epoch: {} [{}/{}]({:.0f}%)]\\ttrain_acc: {:.6f}\\tval_acc: {:.6f}'.format(\n",
        "                epoch, i * len(images), len(train_loader.dataset),100. * i / len(train_loader),\n",
        "                train_acc,val_acc))\n",
        "          val_error.append(1-train_acc)\n",
        "          train_error.append(1-val_acc)\n",
        "\n",
        "    \n",
        "   "
      ],
      "execution_count": 817,
      "outputs": [
        {
          "output_type": "stream",
          "text": [
            "Train Epoch: 0 [12736/16000](80%)]\ttrain_acc: 0.099750\tval_acc: 0.113500\n",
            "Train Epoch: 1 [9536/16000](60%)]\ttrain_acc: 0.103188\tval_acc: 0.095500\n",
            "Train Epoch: 2 [6336/16000](40%)]\ttrain_acc: 0.103438\tval_acc: 0.107000\n",
            "Train Epoch: 3 [3136/16000](20%)]\ttrain_acc: 0.101938\tval_acc: 0.101500\n",
            "Train Epoch: 3 [15936/16000](100%)]\ttrain_acc: 0.105500\tval_acc: 0.093500\n",
            "Train Epoch: 4 [12736/16000](80%)]\ttrain_acc: 0.102625\tval_acc: 0.104500\n",
            "Train Epoch: 5 [9536/16000](60%)]\ttrain_acc: 0.102688\tval_acc: 0.105500\n",
            "Train Epoch: 6 [6336/16000](40%)]\ttrain_acc: 0.105313\tval_acc: 0.092000\n",
            "Train Epoch: 7 [3136/16000](20%)]\ttrain_acc: 0.102750\tval_acc: 0.086000\n",
            "Train Epoch: 7 [15936/16000](100%)]\ttrain_acc: 0.102250\tval_acc: 0.102000\n",
            "Train Epoch: 8 [12736/16000](80%)]\ttrain_acc: 0.104188\tval_acc: 0.105500\n",
            "Train Epoch: 9 [9536/16000](60%)]\ttrain_acc: 0.104188\tval_acc: 0.108500\n",
            "Train Epoch: 10 [6336/16000](40%)]\ttrain_acc: 0.103750\tval_acc: 0.110500\n",
            "Train Epoch: 11 [3136/16000](20%)]\ttrain_acc: 0.105563\tval_acc: 0.096000\n",
            "Train Epoch: 11 [15936/16000](100%)]\ttrain_acc: 0.110250\tval_acc: 0.108500\n",
            "Train Epoch: 12 [12736/16000](80%)]\ttrain_acc: 0.106875\tval_acc: 0.105500\n",
            "Train Epoch: 13 [9536/16000](60%)]\ttrain_acc: 0.105438\tval_acc: 0.094000\n",
            "Train Epoch: 14 [6336/16000](40%)]\ttrain_acc: 0.113000\tval_acc: 0.114500\n",
            "Train Epoch: 15 [3136/16000](20%)]\ttrain_acc: 0.116500\tval_acc: 0.118500\n",
            "Train Epoch: 15 [15936/16000](100%)]\ttrain_acc: 0.166187\tval_acc: 0.158000\n",
            "Train Epoch: 16 [12736/16000](80%)]\ttrain_acc: 0.182938\tval_acc: 0.173500\n",
            "Train Epoch: 17 [9536/16000](60%)]\ttrain_acc: 0.198625\tval_acc: 0.205500\n",
            "Train Epoch: 18 [6336/16000](40%)]\ttrain_acc: 0.203813\tval_acc: 0.205000\n",
            "Train Epoch: 19 [3136/16000](20%)]\ttrain_acc: 0.216250\tval_acc: 0.216500\n",
            "Train Epoch: 19 [15936/16000](100%)]\ttrain_acc: 0.213312\tval_acc: 0.213500\n",
            "Train Epoch: 20 [12736/16000](80%)]\ttrain_acc: 0.208375\tval_acc: 0.215500\n",
            "Train Epoch: 21 [9536/16000](60%)]\ttrain_acc: 0.213562\tval_acc: 0.213500\n",
            "Train Epoch: 22 [6336/16000](40%)]\ttrain_acc: 0.217250\tval_acc: 0.216000\n",
            "Train Epoch: 23 [3136/16000](20%)]\ttrain_acc: 0.212688\tval_acc: 0.211500\n",
            "Train Epoch: 23 [15936/16000](100%)]\ttrain_acc: 0.215812\tval_acc: 0.204500\n",
            "Train Epoch: 24 [12736/16000](80%)]\ttrain_acc: 0.209937\tval_acc: 0.193000\n",
            "Train Epoch: 25 [9536/16000](60%)]\ttrain_acc: 0.222250\tval_acc: 0.220000\n",
            "Train Epoch: 26 [6336/16000](40%)]\ttrain_acc: 0.227250\tval_acc: 0.218500\n",
            "Train Epoch: 27 [3136/16000](20%)]\ttrain_acc: 0.224438\tval_acc: 0.232500\n",
            "Train Epoch: 27 [15936/16000](100%)]\ttrain_acc: 0.230875\tval_acc: 0.229000\n",
            "Train Epoch: 28 [12736/16000](80%)]\ttrain_acc: 0.225625\tval_acc: 0.222000\n",
            "Train Epoch: 29 [9536/16000](60%)]\ttrain_acc: 0.230125\tval_acc: 0.227500\n",
            "Train Epoch: 30 [6336/16000](40%)]\ttrain_acc: 0.259875\tval_acc: 0.252500\n",
            "Train Epoch: 31 [3136/16000](20%)]\ttrain_acc: 0.272500\tval_acc: 0.266500\n",
            "Train Epoch: 31 [15936/16000](100%)]\ttrain_acc: 0.290750\tval_acc: 0.289500\n",
            "Train Epoch: 32 [12736/16000](80%)]\ttrain_acc: 0.310437\tval_acc: 0.310500\n",
            "Train Epoch: 33 [9536/16000](60%)]\ttrain_acc: 0.386750\tval_acc: 0.388500\n",
            "Train Epoch: 34 [6336/16000](40%)]\ttrain_acc: 0.419500\tval_acc: 0.413000\n",
            "Train Epoch: 35 [3136/16000](20%)]\ttrain_acc: 0.474062\tval_acc: 0.471000\n",
            "Train Epoch: 35 [15936/16000](100%)]\ttrain_acc: 0.515000\tval_acc: 0.520500\n",
            "Train Epoch: 36 [12736/16000](80%)]\ttrain_acc: 0.555625\tval_acc: 0.555000\n",
            "Train Epoch: 37 [9536/16000](60%)]\ttrain_acc: 0.613000\tval_acc: 0.608500\n",
            "Train Epoch: 38 [6336/16000](40%)]\ttrain_acc: 0.656563\tval_acc: 0.662000\n",
            "Train Epoch: 39 [3136/16000](20%)]\ttrain_acc: 0.694250\tval_acc: 0.698500\n",
            "Train Epoch: 39 [15936/16000](100%)]\ttrain_acc: 0.711063\tval_acc: 0.711500\n",
            "Train Epoch: 40 [12736/16000](80%)]\ttrain_acc: 0.760625\tval_acc: 0.768000\n",
            "Train Epoch: 41 [9536/16000](60%)]\ttrain_acc: 0.744750\tval_acc: 0.750000\n",
            "Train Epoch: 42 [6336/16000](40%)]\ttrain_acc: 0.822313\tval_acc: 0.837000\n",
            "Train Epoch: 43 [3136/16000](20%)]\ttrain_acc: 0.827438\tval_acc: 0.837500\n",
            "Train Epoch: 43 [15936/16000](100%)]\ttrain_acc: 0.821250\tval_acc: 0.825500\n",
            "Train Epoch: 44 [12736/16000](80%)]\ttrain_acc: 0.825375\tval_acc: 0.830500\n",
            "Train Epoch: 45 [9536/16000](60%)]\ttrain_acc: 0.852750\tval_acc: 0.864000\n",
            "Train Epoch: 46 [6336/16000](40%)]\ttrain_acc: 0.848625\tval_acc: 0.859500\n",
            "Train Epoch: 47 [3136/16000](20%)]\ttrain_acc: 0.865062\tval_acc: 0.875500\n",
            "Train Epoch: 47 [15936/16000](100%)]\ttrain_acc: 0.860437\tval_acc: 0.866000\n",
            "Train Epoch: 48 [12736/16000](80%)]\ttrain_acc: 0.872375\tval_acc: 0.881000\n",
            "Train Epoch: 49 [9536/16000](60%)]\ttrain_acc: 0.897375\tval_acc: 0.905500\n"
          ],
          "name": "stdout"
        }
      ]
    },
    {
      "cell_type": "code",
      "metadata": {
        "id": "JsEq8077OWeW",
        "colab_type": "code",
        "colab": {
          "base_uri": "https://localhost:8080/",
          "height": 296
        },
        "outputId": "76b06c51-8f6b-4ca6-a4b0-79b57d18ad38"
      },
      "source": [
        "epoch = [i for i in range(1,len(val_error)+1)]\n",
        "plt.plot(epoch,val_error,'-r')\n",
        "plt.plot(epoch,train_error,'-b')\n",
        "plt.title('Train and validation error')\n",
        "plt.xlabel('n_iterations')\n",
        "plt.ylabel('Error')\n",
        "plt.gca().legend(('validation error','train error'))\n",
        "plt.show()"
      ],
      "execution_count": 818,
      "outputs": [
        {
          "output_type": "display_data",
          "data": {
            "image/png": "[encoded data removed]",
            "text/plain": [
              "<Figure size 432x288 with 1 Axes>"
            ]
          },
          "metadata": {
            "tags": []
          }
        }
      ]
    },
    {
      "cell_type": "code",
      "metadata": {
        "id": "7kXTyshSOSfT",
        "colab_type": "code",
        "colab": {
          "base_uri": "https://localhost:8080/",
          "height": 34
        },
        "outputId": "615a0cc0-6d45-4dc6-c3b5-c52ff6c54766"
      },
      "source": [
        "print('test accuracy:',predict(test_loader))"
      ],
      "execution_count": 820,
      "outputs": [
        {
          "output_type": "stream",
          "text": [
            "test accuracy: 0.8825\n"
          ],
          "name": "stdout"
        }
      ]
    },
    {
      "cell_type": "markdown",
      "metadata": {
        "id": "CCzj5YJkTSkP",
        "colab_type": "text"
      },
      "source": [
        "**Hidden Size = 5**"
      ]
    },
    {
      "cell_type": "code",
      "metadata": {
        "id": "ByDMiGjZTWUf",
        "colab_type": "code",
        "colab": {}
      },
      "source": [
        "sequence_length = 10\n",
        "input_size = 10\n",
        "hidden_size = 5\n",
        "num_layers = 1\n",
        "num_classes = 10\n",
        "#batch_size = 64\n",
        "learning_rate = 0.0008\n"
      ],
      "execution_count": 0,
      "outputs": []
    },
    {
      "cell_type": "code",
      "metadata": {
        "id": "RYwbGzluTd7g",
        "colab_type": "code",
        "colab": {}
      },
      "source": [
        "\n",
        "class RNN(nn.Module):\n",
        "    def __init__(self, input_size, hidden_size, num_layers, num_classes):\n",
        "        super(RNN, self).__init__()\n",
        "        self.hidden_size = hidden_size\n",
        "        self.num_layers = num_layers\n",
        "        self.RNN = nn.RNN(input_size, hidden_size, num_layers, batch_first=True)\n",
        "        self.fc = nn.Linear(hidden_size, num_classes)\n",
        "    \n",
        "    def forward(self, x):\n",
        "        # Set initial hidden and cell states \n",
        "        c0 = torch.zeros(self.num_layers, x.size(0), self.hidden_size)\n",
        "        \n",
        "        # Forward propagate RNN\n",
        "        out, _ = self.RNN(x,c0)  # out: tensor of shape (batch_size, seq_length, hidden_size)\n",
        "        \n",
        "        # Decode the hidden state of the last time step\n",
        "        out = self.fc(out[:, -1, :])\n",
        "        return out\n",
        "\n",
        "model = RNN(input_size, hidden_size, num_layers, num_classes)\n",
        "model = model"
      ],
      "execution_count": 0,
      "outputs": []
    },
    {
      "cell_type": "code",
      "metadata": {
        "id": "4yXDYYq_TeiB",
        "colab_type": "code",
        "colab": {}
      },
      "source": [
        "criterion = nn.CrossEntropyLoss()\n",
        "optimizer = torch.optim.Adam(model.parameters(), lr=learning_rate)"
      ],
      "execution_count": 0,
      "outputs": []
    },
    {
      "cell_type": "code",
      "metadata": {
        "id": "pzh7jY9bTefT",
        "colab_type": "code",
        "colab": {
          "base_uri": "https://localhost:8080/",
          "height": 1000
        },
        "outputId": "26bc9ad2-cb8f-4826-8177-c1653852cd0c"
      },
      "source": [
        "num_epochs = 100\n",
        "total_step = len(train_loader)\n",
        "val_error = []\n",
        "train_error = []\n",
        "j = 0\n",
        "for epoch in range(num_epochs):\n",
        "    for i, (images, labels) in enumerate(train_loader):\n",
        "        j = j + 1\n",
        "        \n",
        "        images = images.reshape(-1, sequence_length, input_size)\n",
        "        images = images\n",
        "        labels = labels\n",
        "        \n",
        "        # Forward pass\n",
        "        outputs = model(images)\n",
        "        loss = criterion(outputs, labels)\n",
        "        \n",
        "        # Backward and optimize\n",
        "        optimizer.zero_grad()\n",
        "        loss.backward()\n",
        "        optimizer.step()\n",
        "        \n",
        "        \n",
        "        if (j%200==0):\n",
        "          val_acc = predict(val_loader)\n",
        "          train_acc = predict(train_loader)\n",
        "          print('Train Epoch: {} [{}/{}]({:.0f}%)]\\ttrain_acc: {:.6f}\\tval_acc: {:.6f}'.format(\n",
        "                epoch, i * len(images), len(train_loader.dataset),100. * i / len(train_loader),\n",
        "                train_acc,val_acc))\n",
        "          val_error.append(1-train_acc)\n",
        "          train_error.append(1-val_acc)\n",
        "\n",
        "    \n",
        "   "
      ],
      "execution_count": 688,
      "outputs": [
        {
          "output_type": "stream",
          "text": [
            "Train Epoch: 0 [12736/16000](80%)]\ttrain_acc: 0.108625\tval_acc: 0.096500\n",
            "Train Epoch: 1 [9536/16000](60%)]\ttrain_acc: 0.109625\tval_acc: 0.097000\n",
            "Train Epoch: 2 [6336/16000](40%)]\ttrain_acc: 0.110437\tval_acc: 0.098000\n",
            "Train Epoch: 3 [3136/16000](20%)]\ttrain_acc: 0.108063\tval_acc: 0.095500\n",
            "Train Epoch: 3 [15936/16000](100%)]\ttrain_acc: 0.167875\tval_acc: 0.166000\n",
            "Train Epoch: 4 [12736/16000](80%)]\ttrain_acc: 0.172687\tval_acc: 0.162000\n",
            "Train Epoch: 5 [9536/16000](60%)]\ttrain_acc: 0.180750\tval_acc: 0.177000\n",
            "Train Epoch: 6 [6336/16000](40%)]\ttrain_acc: 0.186875\tval_acc: 0.184500\n",
            "Train Epoch: 7 [3136/16000](20%)]\ttrain_acc: 0.223375\tval_acc: 0.207000\n",
            "Train Epoch: 7 [15936/16000](100%)]\ttrain_acc: 0.245938\tval_acc: 0.237500\n",
            "Train Epoch: 8 [12736/16000](80%)]\ttrain_acc: 0.271250\tval_acc: 0.276000\n",
            "Train Epoch: 9 [9536/16000](60%)]\ttrain_acc: 0.317625\tval_acc: 0.317500\n",
            "Train Epoch: 10 [6336/16000](40%)]\ttrain_acc: 0.357563\tval_acc: 0.357500\n",
            "Train Epoch: 11 [3136/16000](20%)]\ttrain_acc: 0.388188\tval_acc: 0.393500\n",
            "Train Epoch: 11 [15936/16000](100%)]\ttrain_acc: 0.409687\tval_acc: 0.423500\n",
            "Train Epoch: 12 [12736/16000](80%)]\ttrain_acc: 0.454125\tval_acc: 0.466000\n",
            "Train Epoch: 13 [9536/16000](60%)]\ttrain_acc: 0.463625\tval_acc: 0.468500\n",
            "Train Epoch: 14 [6336/16000](40%)]\ttrain_acc: 0.472625\tval_acc: 0.469500\n",
            "Train Epoch: 15 [3136/16000](20%)]\ttrain_acc: 0.476375\tval_acc: 0.481000\n",
            "Train Epoch: 15 [15936/16000](100%)]\ttrain_acc: 0.490375\tval_acc: 0.502500\n",
            "Train Epoch: 16 [12736/16000](80%)]\ttrain_acc: 0.497875\tval_acc: 0.522000\n",
            "Train Epoch: 17 [9536/16000](60%)]\ttrain_acc: 0.503687\tval_acc: 0.514000\n",
            "Train Epoch: 18 [6336/16000](40%)]\ttrain_acc: 0.512375\tval_acc: 0.518500\n",
            "Train Epoch: 19 [3136/16000](20%)]\ttrain_acc: 0.530375\tval_acc: 0.544500\n",
            "Train Epoch: 19 [15936/16000](100%)]\ttrain_acc: 0.533563\tval_acc: 0.557500\n",
            "Train Epoch: 20 [12736/16000](80%)]\ttrain_acc: 0.542250\tval_acc: 0.554000\n",
            "Train Epoch: 21 [9536/16000](60%)]\ttrain_acc: 0.563312\tval_acc: 0.570000\n",
            "Train Epoch: 22 [6336/16000](40%)]\ttrain_acc: 0.573937\tval_acc: 0.585500\n",
            "Train Epoch: 23 [3136/16000](20%)]\ttrain_acc: 0.592125\tval_acc: 0.618000\n",
            "Train Epoch: 23 [15936/16000](100%)]\ttrain_acc: 0.593500\tval_acc: 0.604500\n",
            "Train Epoch: 24 [12736/16000](80%)]\ttrain_acc: 0.591688\tval_acc: 0.619500\n",
            "Train Epoch: 25 [9536/16000](60%)]\ttrain_acc: 0.623437\tval_acc: 0.631500\n",
            "Train Epoch: 26 [6336/16000](40%)]\ttrain_acc: 0.615187\tval_acc: 0.628000\n",
            "Train Epoch: 27 [3136/16000](20%)]\ttrain_acc: 0.606125\tval_acc: 0.614000\n",
            "Train Epoch: 27 [15936/16000](100%)]\ttrain_acc: 0.633687\tval_acc: 0.659500\n",
            "Train Epoch: 28 [12736/16000](80%)]\ttrain_acc: 0.642750\tval_acc: 0.660500\n",
            "Train Epoch: 29 [9536/16000](60%)]\ttrain_acc: 0.651250\tval_acc: 0.673500\n",
            "Train Epoch: 30 [6336/16000](40%)]\ttrain_acc: 0.650062\tval_acc: 0.654500\n",
            "Train Epoch: 31 [3136/16000](20%)]\ttrain_acc: 0.608375\tval_acc: 0.623500\n",
            "Train Epoch: 31 [15936/16000](100%)]\ttrain_acc: 0.675937\tval_acc: 0.682500\n",
            "Train Epoch: 32 [12736/16000](80%)]\ttrain_acc: 0.688937\tval_acc: 0.695000\n",
            "Train Epoch: 33 [9536/16000](60%)]\ttrain_acc: 0.670813\tval_acc: 0.666000\n",
            "Train Epoch: 34 [6336/16000](40%)]\ttrain_acc: 0.676125\tval_acc: 0.673500\n",
            "Train Epoch: 35 [3136/16000](20%)]\ttrain_acc: 0.646875\tval_acc: 0.672000\n",
            "Train Epoch: 35 [15936/16000](100%)]\ttrain_acc: 0.698125\tval_acc: 0.699000\n",
            "Train Epoch: 36 [12736/16000](80%)]\ttrain_acc: 0.694250\tval_acc: 0.717000\n",
            "Train Epoch: 37 [9536/16000](60%)]\ttrain_acc: 0.664312\tval_acc: 0.683500\n",
            "Train Epoch: 38 [6336/16000](40%)]\ttrain_acc: 0.709688\tval_acc: 0.707500\n",
            "Train Epoch: 39 [3136/16000](20%)]\ttrain_acc: 0.716375\tval_acc: 0.735000\n",
            "Train Epoch: 39 [15936/16000](100%)]\ttrain_acc: 0.735000\tval_acc: 0.748500\n",
            "Train Epoch: 40 [12736/16000](80%)]\ttrain_acc: 0.707562\tval_acc: 0.714500\n",
            "Train Epoch: 41 [9536/16000](60%)]\ttrain_acc: 0.692937\tval_acc: 0.692500\n",
            "Train Epoch: 42 [6336/16000](40%)]\ttrain_acc: 0.741250\tval_acc: 0.762000\n",
            "Train Epoch: 43 [3136/16000](20%)]\ttrain_acc: 0.739000\tval_acc: 0.738500\n",
            "Train Epoch: 43 [15936/16000](100%)]\ttrain_acc: 0.721875\tval_acc: 0.722000\n",
            "Train Epoch: 44 [12736/16000](80%)]\ttrain_acc: 0.724125\tval_acc: 0.722000\n",
            "Train Epoch: 45 [9536/16000](60%)]\ttrain_acc: 0.737875\tval_acc: 0.753000\n",
            "Train Epoch: 46 [6336/16000](40%)]\ttrain_acc: 0.736500\tval_acc: 0.739000\n",
            "Train Epoch: 47 [3136/16000](20%)]\ttrain_acc: 0.740938\tval_acc: 0.757500\n",
            "Train Epoch: 47 [15936/16000](100%)]\ttrain_acc: 0.754875\tval_acc: 0.754500\n",
            "Train Epoch: 48 [12736/16000](80%)]\ttrain_acc: 0.756563\tval_acc: 0.780000\n",
            "Train Epoch: 49 [9536/16000](60%)]\ttrain_acc: 0.751313\tval_acc: 0.752500\n",
            "Train Epoch: 50 [6336/16000](40%)]\ttrain_acc: 0.760687\tval_acc: 0.772500\n",
            "Train Epoch: 51 [3136/16000](20%)]\ttrain_acc: 0.756750\tval_acc: 0.757500\n",
            "Train Epoch: 51 [15936/16000](100%)]\ttrain_acc: 0.764500\tval_acc: 0.772000\n",
            "Train Epoch: 52 [12736/16000](80%)]\ttrain_acc: 0.753687\tval_acc: 0.752500\n",
            "Train Epoch: 53 [9536/16000](60%)]\ttrain_acc: 0.748938\tval_acc: 0.769000\n",
            "Train Epoch: 54 [6336/16000](40%)]\ttrain_acc: 0.749938\tval_acc: 0.764500\n",
            "Train Epoch: 55 [3136/16000](20%)]\ttrain_acc: 0.740938\tval_acc: 0.739500\n",
            "Train Epoch: 55 [15936/16000](100%)]\ttrain_acc: 0.742625\tval_acc: 0.750000\n",
            "Train Epoch: 56 [12736/16000](80%)]\ttrain_acc: 0.765687\tval_acc: 0.780000\n",
            "Train Epoch: 57 [9536/16000](60%)]\ttrain_acc: 0.766813\tval_acc: 0.783000\n",
            "Train Epoch: 58 [6336/16000](40%)]\ttrain_acc: 0.766125\tval_acc: 0.791500\n",
            "Train Epoch: 59 [3136/16000](20%)]\ttrain_acc: 0.683187\tval_acc: 0.679000\n",
            "Train Epoch: 59 [15936/16000](100%)]\ttrain_acc: 0.763875\tval_acc: 0.769500\n",
            "Train Epoch: 60 [12736/16000](80%)]\ttrain_acc: 0.781312\tval_acc: 0.781000\n",
            "Train Epoch: 61 [9536/16000](60%)]\ttrain_acc: 0.772938\tval_acc: 0.791500\n",
            "Train Epoch: 62 [6336/16000](40%)]\ttrain_acc: 0.771312\tval_acc: 0.773000\n",
            "Train Epoch: 63 [3136/16000](20%)]\ttrain_acc: 0.763125\tval_acc: 0.787500\n",
            "Train Epoch: 63 [15936/16000](100%)]\ttrain_acc: 0.770938\tval_acc: 0.780000\n",
            "Train Epoch: 64 [12736/16000](80%)]\ttrain_acc: 0.774687\tval_acc: 0.790000\n",
            "Train Epoch: 65 [9536/16000](60%)]\ttrain_acc: 0.752250\tval_acc: 0.751500\n",
            "Train Epoch: 66 [6336/16000](40%)]\ttrain_acc: 0.778563\tval_acc: 0.789500\n",
            "Train Epoch: 67 [3136/16000](20%)]\ttrain_acc: 0.780687\tval_acc: 0.798000\n",
            "Train Epoch: 67 [15936/16000](100%)]\ttrain_acc: 0.793188\tval_acc: 0.794000\n",
            "Train Epoch: 68 [12736/16000](80%)]\ttrain_acc: 0.775500\tval_acc: 0.777000\n",
            "Train Epoch: 69 [9536/16000](60%)]\ttrain_acc: 0.776813\tval_acc: 0.796000\n",
            "Train Epoch: 70 [6336/16000](40%)]\ttrain_acc: 0.787000\tval_acc: 0.804000\n",
            "Train Epoch: 71 [3136/16000](20%)]\ttrain_acc: 0.790750\tval_acc: 0.788000\n",
            "Train Epoch: 71 [15936/16000](100%)]\ttrain_acc: 0.799250\tval_acc: 0.804500\n",
            "Train Epoch: 72 [12736/16000](80%)]\ttrain_acc: 0.758687\tval_acc: 0.759500\n",
            "Train Epoch: 73 [9536/16000](60%)]\ttrain_acc: 0.773188\tval_acc: 0.790500\n",
            "Train Epoch: 74 [6336/16000](40%)]\ttrain_acc: 0.806688\tval_acc: 0.808500\n",
            "Train Epoch: 75 [3136/16000](20%)]\ttrain_acc: 0.794000\tval_acc: 0.793000\n",
            "Train Epoch: 75 [15936/16000](100%)]\ttrain_acc: 0.755500\tval_acc: 0.776500\n",
            "Train Epoch: 76 [12736/16000](80%)]\ttrain_acc: 0.820937\tval_acc: 0.828000\n",
            "Train Epoch: 77 [9536/16000](60%)]\ttrain_acc: 0.825313\tval_acc: 0.819000\n",
            "Train Epoch: 78 [6336/16000](40%)]\ttrain_acc: 0.826625\tval_acc: 0.831500\n",
            "Train Epoch: 79 [3136/16000](20%)]\ttrain_acc: 0.801063\tval_acc: 0.824000\n",
            "Train Epoch: 79 [15936/16000](100%)]\ttrain_acc: 0.855500\tval_acc: 0.864500\n",
            "Train Epoch: 80 [12736/16000](80%)]\ttrain_acc: 0.840750\tval_acc: 0.856000\n",
            "Train Epoch: 81 [9536/16000](60%)]\ttrain_acc: 0.834313\tval_acc: 0.845500\n",
            "Train Epoch: 82 [6336/16000](40%)]\ttrain_acc: 0.839313\tval_acc: 0.864500\n",
            "Train Epoch: 83 [3136/16000](20%)]\ttrain_acc: 0.850000\tval_acc: 0.861500\n",
            "Train Epoch: 83 [15936/16000](100%)]\ttrain_acc: 0.871000\tval_acc: 0.888000\n",
            "Train Epoch: 84 [12736/16000](80%)]\ttrain_acc: 0.824125\tval_acc: 0.832000\n",
            "Train Epoch: 85 [9536/16000](60%)]\ttrain_acc: 0.885125\tval_acc: 0.901000\n",
            "Train Epoch: 86 [6336/16000](40%)]\ttrain_acc: 0.851688\tval_acc: 0.868500\n",
            "Train Epoch: 87 [3136/16000](20%)]\ttrain_acc: 0.827438\tval_acc: 0.835500\n",
            "Train Epoch: 87 [15936/16000](100%)]\ttrain_acc: 0.880188\tval_acc: 0.885500\n",
            "Train Epoch: 88 [12736/16000](80%)]\ttrain_acc: 0.869750\tval_acc: 0.877000\n",
            "Train Epoch: 89 [9536/16000](60%)]\ttrain_acc: 0.899500\tval_acc: 0.907000\n",
            "Train Epoch: 90 [6336/16000](40%)]\ttrain_acc: 0.886062\tval_acc: 0.893500\n",
            "Train Epoch: 91 [3136/16000](20%)]\ttrain_acc: 0.889312\tval_acc: 0.893500\n",
            "Train Epoch: 91 [15936/16000](100%)]\ttrain_acc: 0.901750\tval_acc: 0.916000\n",
            "Train Epoch: 92 [12736/16000](80%)]\ttrain_acc: 0.904125\tval_acc: 0.904500\n",
            "Train Epoch: 93 [9536/16000](60%)]\ttrain_acc: 0.902937\tval_acc: 0.915000\n",
            "Train Epoch: 94 [6336/16000](40%)]\ttrain_acc: 0.908062\tval_acc: 0.912500\n",
            "Train Epoch: 95 [3136/16000](20%)]\ttrain_acc: 0.901125\tval_acc: 0.903500\n",
            "Train Epoch: 95 [15936/16000](100%)]\ttrain_acc: 0.939937\tval_acc: 0.949500\n",
            "Train Epoch: 96 [12736/16000](80%)]\ttrain_acc: 0.938250\tval_acc: 0.941500\n",
            "Train Epoch: 97 [9536/16000](60%)]\ttrain_acc: 0.946187\tval_acc: 0.950000\n",
            "Train Epoch: 98 [6336/16000](40%)]\ttrain_acc: 0.943937\tval_acc: 0.946500\n",
            "Train Epoch: 99 [3136/16000](20%)]\ttrain_acc: 0.950000\tval_acc: 0.954500\n",
            "Train Epoch: 99 [15936/16000](100%)]\ttrain_acc: 0.946562\tval_acc: 0.947000\n"
          ],
          "name": "stdout"
        }
      ]
    },
    {
      "cell_type": "code",
      "metadata": {
        "id": "yuETnIjOTecS",
        "colab_type": "code",
        "colab": {
          "base_uri": "https://localhost:8080/",
          "height": 296
        },
        "outputId": "a0acb18f-a1b1-4143-d6bc-edf2c7450352"
      },
      "source": [
        "epoch = [i for i in range(1,len(val_error)+1)]\n",
        "plt.plot(epoch,val_error,'-r')\n",
        "plt.plot(epoch,train_error,'-b')\n",
        "plt.title('Train and validation error')\n",
        "plt.xlabel('n_iterations')\n",
        "plt.ylabel('Error')\n",
        "plt.gca().legend(('validation error','train error'))\n",
        "plt.show()"
      ],
      "execution_count": 689,
      "outputs": [
        {
          "output_type": "display_data",
          "data": {
            "image/png": "[encoded data removed]",
            "text/plain": [
              "<Figure size 432x288 with 1 Axes>"
            ]
          },
          "metadata": {
            "tags": []
          }
        }
      ]
    },
    {
      "cell_type": "code",
      "metadata": {
        "id": "5tvVXNVzUjKz",
        "colab_type": "code",
        "colab": {
          "base_uri": "https://localhost:8080/",
          "height": 34
        },
        "outputId": "84893b23-0c97-47e6-d9a1-3388b969e1e5"
      },
      "source": [
        "print('test accuracy:',predict(test_loader))"
      ],
      "execution_count": 693,
      "outputs": [
        {
          "output_type": "stream",
          "text": [
            "test accuracy: 0.9395\n"
          ],
          "name": "stdout"
        }
      ]
    },
    {
      "cell_type": "markdown",
      "metadata": {
        "id": "KtePAQqnoGSi",
        "colab_type": "text"
      },
      "source": [
        "With increasing no of hidden size network was able to learn better"
      ]
    },
    {
      "cell_type": "code",
      "metadata": {
        "id": "hUklRh8kUzWw",
        "colab_type": "code",
        "colab": {
          "base_uri": "https://localhost:8080/",
          "height": 1000
        },
        "outputId": "2260aa70-ae38-437d-c09a-a218886e3136"
      },
      "source": [
        "for i in range(5):\n",
        "  x = iter(test_loader).next()\n",
        "  inputseq = x[0][0]\n",
        "  targetno = x[1][0]\n",
        "  print(inputseq)\n",
        "  inputseq = inputseq.reshape(-1, sequence_length, input_size)\n",
        "  outputs = model(inputseq)\n",
        "  outputs = outputs.data\n",
        "  outputs = torch.argmax(torch.squeeze(outputs))\n",
        "  print('Expected Learned no:',int(targetno))\n",
        "  print('Learnt no:',int(outputs))"
      ],
      "execution_count": 707,
      "outputs": [
        {
          "output_type": "stream",
          "text": [
            "tensor([[0., 0., 0., 0., 0., 0., 1., 0., 0., 0.],\n",
            "        [0., 0., 1., 0., 0., 0., 0., 0., 0., 0.],\n",
            "        [0., 0., 0., 0., 1., 0., 0., 0., 0., 0.],\n",
            "        [0., 1., 0., 0., 0., 0., 0., 0., 0., 0.],\n",
            "        [0., 0., 0., 0., 0., 0., 0., 0., 0., 0.],\n",
            "        [0., 0., 0., 0., 0., 0., 0., 0., 0., 0.],\n",
            "        [0., 0., 0., 0., 0., 0., 0., 0., 0., 0.],\n",
            "        [0., 0., 0., 0., 0., 0., 0., 0., 0., 0.],\n",
            "        [0., 0., 0., 0., 0., 0., 0., 0., 0., 0.],\n",
            "        [0., 0., 0., 0., 0., 0., 0., 0., 0., 0.]])\n",
            "Expected Learned no: 4\n",
            "Learnt no: 4\n",
            "tensor([[0., 0., 0., 0., 0., 0., 0., 1., 0., 0.],\n",
            "        [0., 0., 0., 0., 1., 0., 0., 0., 0., 0.],\n",
            "        [1., 0., 0., 0., 0., 0., 0., 0., 0., 0.],\n",
            "        [0., 0., 0., 0., 0., 0., 0., 0., 1., 0.],\n",
            "        [1., 0., 0., 0., 0., 0., 0., 0., 0., 0.],\n",
            "        [0., 0., 1., 0., 0., 0., 0., 0., 0., 0.],\n",
            "        [0., 0., 0., 0., 0., 0., 0., 0., 0., 1.],\n",
            "        [0., 0., 0., 0., 0., 0., 0., 0., 0., 1.],\n",
            "        [0., 0., 0., 0., 0., 0., 0., 0., 0., 0.],\n",
            "        [0., 0., 0., 0., 0., 0., 0., 0., 0., 0.]])\n",
            "Expected Learned no: 0\n",
            "Learnt no: 0\n",
            "tensor([[0., 0., 0., 0., 0., 0., 0., 0., 0., 1.],\n",
            "        [0., 0., 0., 0., 0., 0., 0., 0., 0., 1.],\n",
            "        [0., 0., 0., 0., 1., 0., 0., 0., 0., 0.],\n",
            "        [0., 0., 1., 0., 0., 0., 0., 0., 0., 0.],\n",
            "        [0., 0., 1., 0., 0., 0., 0., 0., 0., 0.],\n",
            "        [0., 0., 0., 1., 0., 0., 0., 0., 0., 0.],\n",
            "        [0., 0., 0., 0., 0., 0., 0., 0., 0., 1.],\n",
            "        [0., 0., 0., 0., 0., 0., 0., 0., 1., 0.],\n",
            "        [0., 0., 0., 0., 0., 0., 0., 0., 0., 0.],\n",
            "        [0., 0., 0., 0., 0., 0., 0., 0., 0., 0.]])\n",
            "Expected Learned no: 4\n",
            "Learnt no: 4\n",
            "tensor([[1., 0., 0., 0., 0., 0., 0., 0., 0., 0.],\n",
            "        [0., 1., 0., 0., 0., 0., 0., 0., 0., 0.],\n",
            "        [0., 0., 0., 0., 0., 1., 0., 0., 0., 0.],\n",
            "        [0., 0., 0., 0., 0., 0., 0., 1., 0., 0.],\n",
            "        [0., 0., 1., 0., 0., 0., 0., 0., 0., 0.],\n",
            "        [0., 0., 0., 0., 0., 0., 0., 0., 1., 0.],\n",
            "        [0., 0., 0., 0., 0., 0., 1., 0., 0., 0.],\n",
            "        [0., 0., 0., 0., 0., 0., 1., 0., 0., 0.],\n",
            "        [0., 0., 1., 0., 0., 0., 0., 0., 0., 0.],\n",
            "        [0., 0., 0., 0., 0., 0., 0., 1., 0., 0.]])\n",
            "Expected Learned no: 5\n",
            "Learnt no: 5\n",
            "tensor([[0., 0., 0., 0., 0., 1., 0., 0., 0., 0.],\n",
            "        [0., 0., 1., 0., 0., 0., 0., 0., 0., 0.],\n",
            "        [0., 1., 0., 0., 0., 0., 0., 0., 0., 0.],\n",
            "        [1., 0., 0., 0., 0., 0., 0., 0., 0., 0.],\n",
            "        [0., 0., 0., 0., 0., 0., 1., 0., 0., 0.],\n",
            "        [0., 0., 0., 0., 0., 0., 0., 0., 0., 1.],\n",
            "        [1., 0., 0., 0., 0., 0., 0., 0., 0., 0.],\n",
            "        [0., 0., 1., 0., 0., 0., 0., 0., 0., 0.],\n",
            "        [0., 0., 0., 0., 0., 0., 0., 0., 0., 0.],\n",
            "        [0., 0., 0., 0., 0., 0., 0., 0., 0., 0.]])\n",
            "Expected Learned no: 1\n",
            "Learnt no: 1\n"
          ],
          "name": "stdout"
        }
      ]
    },
    {
      "cell_type": "markdown",
      "metadata": {
        "id": "OUKQuEO_Y9Uj",
        "colab_type": "text"
      },
      "source": [
        "**ADD two binary strings using RNN**"
      ]
    },
    {
      "cell_type": "markdown",
      "metadata": {
        "id": "NXkuUtyCa17C",
        "colab_type": "text"
      },
      "source": [
        "**L = 3**"
      ]
    },
    {
      "cell_type": "code",
      "metadata": {
        "id": "gRKHkQZ9Z9b9",
        "colab_type": "code",
        "colab": {}
      },
      "source": [
        "L = 3\n",
        "max_str = '1'*L\n",
        "max_int = int(max_str,2)"
      ],
      "execution_count": 0,
      "outputs": []
    },
    {
      "cell_type": "code",
      "metadata": {
        "id": "GIBHMv4_ZGlQ",
        "colab_type": "code",
        "colab": {}
      },
      "source": [
        "def gen_rand_bin(L):\n",
        "    x = np.random.randint(0,max_int+1)\n",
        "    return list(map(int,list(format(x, '0'+str(L+1)+'b')))),x"
      ],
      "execution_count": 0,
      "outputs": []
    },
    {
      "cell_type": "code",
      "metadata": {
        "id": "LQ0d53ISdkHb",
        "colab_type": "code",
        "colab": {}
      },
      "source": [
        "def gen_training_sample(L):\n",
        "  bin1 = gen_rand_bin(L)\n",
        "  bin2 = gen_rand_bin(L)\n",
        "  input1 = bin1[0]\n",
        "  input2 = bin2[0]\n",
        "  sum_bin = list(map(int,list(format(bin1[1]+bin2[1], '0'+str(L+1)+'b'))))\n",
        "  return (torch.Tensor(input1),torch.Tensor(input2),torch.Tensor(sum_bin))"
      ],
      "execution_count": 0,
      "outputs": []
    },
    {
      "cell_type": "code",
      "metadata": {
        "id": "IlmtR8InfufZ",
        "colab_type": "code",
        "colab": {}
      },
      "source": [
        "data_size = 20000\n",
        "data = []\n",
        "\n",
        "for i in range(data_size):\n",
        "  data.append(gen_training_sample(L))\n",
        "  "
      ],
      "execution_count": 0,
      "outputs": []
    },
    {
      "cell_type": "code",
      "metadata": {
        "id": "p3lKuKdPh9p1",
        "colab_type": "code",
        "colab": {}
      },
      "source": [
        "train_data,test_data, val_data = torch.utils.data.random_split(data, lengths= [16000,2000,2000])"
      ],
      "execution_count": 0,
      "outputs": []
    },
    {
      "cell_type": "code",
      "metadata": {
        "id": "NBA5NA9gh-X_",
        "colab_type": "code",
        "colab": {}
      },
      "source": [
        "train_loader = torch.utils.data.DataLoader(train_data, batch_size = 64, shuffle = True)\n",
        "val_loader = torch.utils.data.DataLoader(val_data, batch_size = 64, shuffle = True)\n",
        "test_loader = torch.utils.data.DataLoader(test_data, batch_size = 64, shuffle = True)"
      ],
      "execution_count": 0,
      "outputs": []
    },
    {
      "cell_type": "markdown",
      "metadata": {
        "id": "Jee3AWlPcRbY",
        "colab_type": "text"
      },
      "source": [
        "**MSE LOSS**"
      ]
    },
    {
      "cell_type": "code",
      "metadata": {
        "id": "ay70GxW6i_sp",
        "colab_type": "code",
        "colab": {}
      },
      "source": [
        "sequence_length = L+1\n",
        "input_size = 2\n",
        "hidden_size = 5\n",
        "num_layers = 1\n",
        "num_classes = 1\n",
        "#batch_size = 64\n",
        "learning_rate = 0.001\n"
      ],
      "execution_count": 0,
      "outputs": []
    },
    {
      "cell_type": "code",
      "metadata": {
        "id": "CZZ1cXavj_u0",
        "colab_type": "code",
        "colab": {}
      },
      "source": [
        "\n",
        "class model_LSTM(nn.Module):\n",
        "    def __init__(self, input_size, hidden_size, num_layers, num_classes):\n",
        "        super(model_LSTM, self).__init__()\n",
        "        self.hidden_size = hidden_size\n",
        "        self.num_layers = num_layers\n",
        "        self.LSTM1 = nn.LSTM(input_size, hidden_size, num_layers, batch_first=True)\n",
        "        self.fc = nn.Linear(hidden_size, num_classes)\n",
        "    \n",
        "    def forward(self, x):\n",
        "        # Set initial hidden and cell states \n",
        "        c0 = torch.zeros(self.num_layers, x.size(0), self.hidden_size)\n",
        "        h0 = torch.zeros(self.num_layers, x.size(0), self.hidden_size)\n",
        "        \n",
        "        # Forward propagate RNN\n",
        "        \n",
        "        out, _ = self.LSTM1(x, (h0,c0))  # out: tensor of shape (batch_size, seq_length, hidden_size)\n",
        "        out1 = out.contiguous().view(-1,hidden_size)\n",
        "        # Decode the hidden state of the last time step\n",
        "    \n",
        "        out = self.fc(out1)\n",
        "        out = F.sigmoid(out)\n",
        "        return out\n",
        "\n",
        "model = model_LSTM(input_size, hidden_size, num_layers, num_classes)\n",
        "model = model"
      ],
      "execution_count": 0,
      "outputs": []
    },
    {
      "cell_type": "code",
      "metadata": {
        "id": "zWamQN_ok62l",
        "colab_type": "code",
        "colab": {}
      },
      "source": [
        "criterion = nn.MSELoss()\n",
        "optimizer = torch.optim.Adam(model.parameters(), lr=learning_rate)"
      ],
      "execution_count": 0,
      "outputs": []
    },
    {
      "cell_type": "code",
      "metadata": {
        "id": "7jHy9iY1avi0",
        "colab_type": "code",
        "colab": {}
      },
      "source": [
        "def bit_accuracy(loader):\n",
        "    bit_err = 0\n",
        "    total= 0\n",
        "    with torch.no_grad():\n",
        "      for data in loader:\n",
        "          input1 = data[0]\n",
        "          input2 = data[1]\n",
        "          labels = data[2]\n",
        "          input1 = torch.flip(input1,[1])\n",
        "          input2 = torch.flip(input2,[1])\n",
        "          labels = torch.flip(labels,[1])\n",
        "          labels = labels.numpy()\n",
        "          input1 = input1.reshape(-1, sequence_length, 1)\n",
        "          input2 = input2.reshape(-1, sequence_length, 1)\n",
        "          final_input = torch.cat((input1,input2),2)\n",
        "          out = model(final_input)\n",
        "          out = out.view(-1,L+1)\n",
        "          out = out.data\n",
        "          out = torch.squeeze(out).numpy()\n",
        "          out[out>=0.5] = 1\n",
        "          out[out<0.5] = 0\n",
        "          total += labels.shape[0]\n",
        "          bit_err = bit_err + sum(sum(abs(out-labels)))\n",
        "    return 1- bit_err/(total*(L+1))\n",
        "     \n",
        "          "
      ],
      "execution_count": 0,
      "outputs": []
    },
    {
      "cell_type": "code",
      "metadata": {
        "id": "TmKo6J7OlG1L",
        "colab_type": "code",
        "colab": {
          "base_uri": "https://localhost:8080/",
          "height": 339
        },
        "outputId": "841790fd-02fe-4784-8f6c-0740e51a0e4a"
      },
      "source": [
        "\n",
        "num_epochs = 13\n",
        "total_step = len(train_loader)\n",
        "val_error = []\n",
        "train_error = []\n",
        "j = 0\n",
        "for epoch in range(num_epochs):\n",
        "    for i, (input1,input2, labels) in enumerate(train_loader):\n",
        "        j = j + 1\n",
        "        input1 = torch.flip(input1,[1])\n",
        "        input2 = torch.flip(input2,[1])\n",
        "        labels = torch.flip(labels,[1])\n",
        "        input1 = input1.reshape(-1, sequence_length, 1)\n",
        "        input2 = input2.reshape(-1, sequence_length, 1)\n",
        "        final_input = torch.cat((input1,input2),2)\n",
        "        # Forward pass\n",
        "        outputs = model(final_input)\n",
        "        outputs = outputs.view(-1,L+1)\n",
        "       \n",
        "        #labels = torch.Tensor(labels).type(torch.LongTensor)\n",
        "        loss = criterion(outputs, labels)\n",
        "        \n",
        "        \n",
        "        # Backward and optimize\n",
        "        optimizer.zero_grad()\n",
        "        loss.backward()\n",
        "        optimizer.step()\n",
        "        \n",
        "        \n",
        "        \n",
        "        if (j%200==0):\n",
        "          val_acc = bit_accuracy(val_loader)\n",
        "          train_acc = bit_accuracy(train_loader)\n",
        "          print('Train Epoch: {} [{}/{}]({:.0f}%)]\\ttrain_acc: {:.6f}\\tval_acc: {:.6f}'.format(\n",
        "                epoch, i * len(images), len(train_loader.dataset),100. * i / len(train_loader),\n",
        "                train_acc,val_acc))\n",
        "          val_error.append(1-train_acc)\n",
        "          train_error.append(1-val_acc)\n",
        "\n",
        "    \n",
        "   "
      ],
      "execution_count": 747,
      "outputs": [
        {
          "output_type": "stream",
          "text": [
            "/usr/local/lib/python3.6/dist-packages/torch/nn/functional.py:1350: UserWarning: nn.functional.sigmoid is deprecated. Use torch.sigmoid instead.\n",
            "  warnings.warn(\"nn.functional.sigmoid is deprecated. Use torch.sigmoid instead.\")\n"
          ],
          "name": "stderr"
        },
        {
          "output_type": "stream",
          "text": [
            "Train Epoch: 0 [12736/16000](80%)]\ttrain_acc: 0.529750\tval_acc: 0.528125\n",
            "Train Epoch: 1 [9536/16000](60%)]\ttrain_acc: 0.612203\tval_acc: 0.610125\n",
            "Train Epoch: 2 [6336/16000](40%)]\ttrain_acc: 0.779750\tval_acc: 0.776500\n",
            "Train Epoch: 3 [3136/16000](20%)]\ttrain_acc: 0.861922\tval_acc: 0.861875\n",
            "Train Epoch: 3 [15936/16000](100%)]\ttrain_acc: 0.889703\tval_acc: 0.888500\n",
            "Train Epoch: 4 [12736/16000](80%)]\ttrain_acc: 0.878062\tval_acc: 0.875125\n",
            "Train Epoch: 5 [9536/16000](60%)]\ttrain_acc: 0.874344\tval_acc: 0.871750\n",
            "Train Epoch: 6 [6336/16000](40%)]\ttrain_acc: 0.881766\tval_acc: 0.879125\n",
            "Train Epoch: 7 [3136/16000](20%)]\ttrain_acc: 0.915500\tval_acc: 0.915250\n",
            "Train Epoch: 7 [15936/16000](100%)]\ttrain_acc: 0.915500\tval_acc: 0.915250\n",
            "Train Epoch: 8 [12736/16000](80%)]\ttrain_acc: 0.919031\tval_acc: 0.920250\n",
            "Train Epoch: 9 [9536/16000](60%)]\ttrain_acc: 0.927359\tval_acc: 0.929125\n",
            "Train Epoch: 10 [6336/16000](40%)]\ttrain_acc: 0.974187\tval_acc: 0.972500\n",
            "Train Epoch: 11 [3136/16000](20%)]\ttrain_acc: 0.988469\tval_acc: 0.989500\n",
            "Train Epoch: 11 [15936/16000](100%)]\ttrain_acc: 0.988469\tval_acc: 0.989500\n",
            "Train Epoch: 12 [12736/16000](80%)]\ttrain_acc: 0.988469\tval_acc: 0.989500\n"
          ],
          "name": "stdout"
        }
      ]
    },
    {
      "cell_type": "code",
      "metadata": {
        "id": "VJQ8iOBOddqF",
        "colab_type": "code",
        "colab": {
          "base_uri": "https://localhost:8080/",
          "height": 296
        },
        "outputId": "4138d099-77dc-4511-b1ee-6a0908c2a30e"
      },
      "source": [
        "epoch = [i for i in range(1,len(val_error)+1)]\n",
        "plt.plot(epoch,val_error,'-r')\n",
        "plt.plot(epoch,train_error,'-b')\n",
        "plt.title('Train and validation error')\n",
        "plt.xlabel('n_iterations')\n",
        "plt.ylabel('Error')\n",
        "plt.gca().legend(('validation error','train error'))\n",
        "plt.show()"
      ],
      "execution_count": 748,
      "outputs": [
        {
          "output_type": "display_data",
          "data": {
            "image/png": "[encoded data removed]",
            "text/plain": [
              "<Figure size 432x288 with 1 Axes>"
            ]
          },
          "metadata": {
            "tags": []
          }
        }
      ]
    },
    {
      "cell_type": "code",
      "metadata": {
        "id": "IIaM3u23jYGC",
        "colab_type": "code",
        "colab": {
          "base_uri": "https://localhost:8080/",
          "height": 87
        },
        "outputId": "d4231fd4-5451-4f98-9212-d3f32fde5175"
      },
      "source": [
        "print('bit accuracy on test samples:',bit_accuracy(test_loader)*100,'%')"
      ],
      "execution_count": 749,
      "outputs": [
        {
          "output_type": "stream",
          "text": [
            "bit accuracy on test samples: 99.02499999999999 %\n"
          ],
          "name": "stdout"
        },
        {
          "output_type": "stream",
          "text": [
            "/usr/local/lib/python3.6/dist-packages/torch/nn/functional.py:1350: UserWarning: nn.functional.sigmoid is deprecated. Use torch.sigmoid instead.\n",
            "  warnings.warn(\"nn.functional.sigmoid is deprecated. Use torch.sigmoid instead.\")\n"
          ],
          "name": "stderr"
        }
      ]
    },
    {
      "cell_type": "markdown",
      "metadata": {
        "id": "Mw4gjccbccfR",
        "colab_type": "text"
      },
      "source": [
        "**Cross Entropy Loss**\n",
        "\n",
        "Pytorch doesn't have sigmoid cross entropy loss like tendorflow. It comes as Multilabel soft margin loss"
      ]
    },
    {
      "cell_type": "code",
      "metadata": {
        "id": "L9haN6ircarW",
        "colab_type": "code",
        "colab": {}
      },
      "source": [
        "sequence_length = L+1\n",
        "input_size = 2\n",
        "hidden_size = 5\n",
        "num_layers = 1\n",
        "num_classes = 1\n",
        "#batch_size = 64\n",
        "learning_rate = 0.001\n"
      ],
      "execution_count": 0,
      "outputs": []
    },
    {
      "cell_type": "code",
      "metadata": {
        "id": "JnCelvNCl0Es",
        "colab_type": "code",
        "colab": {}
      },
      "source": [
        "\n",
        "class model_LSTM(nn.Module):\n",
        "    def __init__(self, input_size, hidden_size, num_layers, num_classes):\n",
        "        super(model_LSTM, self).__init__()\n",
        "        self.hidden_size = hidden_size\n",
        "        self.num_layers = num_layers\n",
        "        self.LSTM1 = nn.LSTM(input_size, hidden_size, num_layers, batch_first=True)\n",
        "        self.fc = nn.Linear(hidden_size, num_classes)\n",
        "    \n",
        "    def forward(self, x):\n",
        "        # Set initial hidden and cell states \n",
        "        c0 = torch.zeros(self.num_layers, x.size(0), self.hidden_size)\n",
        "        h0 = torch.zeros(self.num_layers, x.size(0), self.hidden_size)\n",
        "        \n",
        "        # Forward propagate RNN\n",
        "        \n",
        "        out, _ = self.LSTM1(x, (h0,c0))  # out: tensor of shape (batch_size, seq_length, hidden_size)\n",
        "        out1 = out.contiguous().view(-1,hidden_size)\n",
        "        # Decode the hidden state of the last time step\n",
        "    \n",
        "        out = self.fc(out1)\n",
        "        #out = F.sigmoid(out)\n",
        "        return out\n",
        "\n",
        "model = model_LSTM(input_size, hidden_size, num_layers, num_classes)\n",
        "model = model"
      ],
      "execution_count": 0,
      "outputs": []
    },
    {
      "cell_type": "code",
      "metadata": {
        "id": "X5OoaViSnWeP",
        "colab_type": "code",
        "colab": {}
      },
      "source": [
        "criterion = nn.MultiLabelSoftMarginLoss()\n",
        "optimizer = torch.optim.Adam(model.parameters(), lr=learning_rate)"
      ],
      "execution_count": 0,
      "outputs": []
    },
    {
      "cell_type": "code",
      "metadata": {
        "id": "eCIExL-Sr0v2",
        "colab_type": "code",
        "colab": {
          "base_uri": "https://localhost:8080/",
          "height": 218
        },
        "outputId": "b41fcf58-b528-4364-f8c4-755d15e1f572"
      },
      "source": [
        "\n",
        "num_epochs = 10\n",
        "total_step = len(train_loader)\n",
        "val_error = []\n",
        "train_error = []\n",
        "j = 0\n",
        "for epoch in range(num_epochs):\n",
        "    for i, (input1,input2, labels) in enumerate(train_loader):\n",
        "        j = j + 1\n",
        "        input1 = torch.flip(input1,[1])\n",
        "        input2 = torch.flip(input2,[1])\n",
        "        labels = torch.flip(labels,[1])\n",
        "        input1 = input1.reshape(-1, sequence_length, 1)\n",
        "        input2 = input2.reshape(-1, sequence_length, 1)\n",
        "        final_input = torch.cat((input1,input2),2)\n",
        "        # Forward pass\n",
        "        outputs = model(final_input)\n",
        "        outputs = outputs.view(-1,L+1)\n",
        "       \n",
        "        #labels = torch.Tensor(labels).type(torch.LongTensor)\n",
        "        loss = criterion(outputs, labels)\n",
        "        \n",
        "        \n",
        "        # Backward and optimize\n",
        "        optimizer.zero_grad()\n",
        "        loss.backward()\n",
        "        optimizer.step()\n",
        "        \n",
        "        \n",
        "        if (j%200==0):\n",
        "          val_acc = bit_accuracy(val_loader)\n",
        "          train_acc = bit_accuracy(train_loader)\n",
        "          print('Train Epoch: {} [{}/{}]({:.0f}%)]\\ttrain_acc: {:.6f}\\tval_acc: {:.6f}'.format(\n",
        "                epoch, i * len(images), len(train_loader.dataset),100. * i / len(train_loader),\n",
        "                train_acc,val_acc))\n",
        "          val_error.append(1-train_acc)\n",
        "          train_error.append(1-val_acc)\n",
        "\n",
        "    \n",
        "   "
      ],
      "execution_count": 753,
      "outputs": [
        {
          "output_type": "stream",
          "text": [
            "Train Epoch: 0 [12736/16000](80%)]\ttrain_acc: 0.515203\tval_acc: 0.520875\n",
            "Train Epoch: 1 [9536/16000](60%)]\ttrain_acc: 0.527594\tval_acc: 0.532875\n",
            "Train Epoch: 2 [6336/16000](40%)]\ttrain_acc: 0.559594\tval_acc: 0.563625\n",
            "Train Epoch: 3 [3136/16000](20%)]\ttrain_acc: 0.677875\tval_acc: 0.677875\n",
            "Train Epoch: 3 [15936/16000](100%)]\ttrain_acc: 0.713078\tval_acc: 0.714500\n",
            "Train Epoch: 4 [12736/16000](80%)]\ttrain_acc: 0.749797\tval_acc: 0.752625\n",
            "Train Epoch: 5 [9536/16000](60%)]\ttrain_acc: 0.822281\tval_acc: 0.823125\n",
            "Train Epoch: 6 [6336/16000](40%)]\ttrain_acc: 0.880234\tval_acc: 0.883250\n",
            "Train Epoch: 7 [3136/16000](20%)]\ttrain_acc: 0.916203\tval_acc: 0.919250\n",
            "Train Epoch: 7 [15936/16000](100%)]\ttrain_acc: 0.930031\tval_acc: 0.933250\n",
            "Train Epoch: 8 [12736/16000](80%)]\ttrain_acc: 0.964766\tval_acc: 0.964375\n",
            "Train Epoch: 9 [9536/16000](60%)]\ttrain_acc: 0.979953\tval_acc: 0.978750\n"
          ],
          "name": "stdout"
        }
      ]
    },
    {
      "cell_type": "code",
      "metadata": {
        "id": "lG229T6ednvE",
        "colab_type": "code",
        "colab": {
          "base_uri": "https://localhost:8080/",
          "height": 296
        },
        "outputId": "a77a026c-6fa2-454b-db60-0d2d1dcc2a3a"
      },
      "source": [
        "epoch = [i for i in range(1,len(val_error)+1)]\n",
        "plt.plot(epoch,val_error,'-r')\n",
        "plt.plot(epoch,train_error,'-b')\n",
        "plt.title('Train and validation error')\n",
        "plt.xlabel('n_iterations')\n",
        "plt.ylabel('Error')\n",
        "plt.gca().legend(('validation error','train error'))\n",
        "plt.show()"
      ],
      "execution_count": 754,
      "outputs": [
        {
          "output_type": "display_data",
          "data": {
            "image/png": "[encoded data removed]",
            "text/plain": [
              "<Figure size 432x288 with 1 Axes>"
            ]
          },
          "metadata": {
            "tags": []
          }
        }
      ]
    },
    {
      "cell_type": "code",
      "metadata": {
        "id": "1x1WGDKTr6nH",
        "colab_type": "code",
        "colab": {
          "base_uri": "https://localhost:8080/",
          "height": 34
        },
        "outputId": "b4a63a2c-28f6-4663-dd99-a0c29b277013"
      },
      "source": [
        "print('bit accuracy on test samples:',bit_accuracy(test_loader)*100,'%')"
      ],
      "execution_count": 755,
      "outputs": [
        {
          "output_type": "stream",
          "text": [
            "bit accuracy on test samples: 98.6125 %\n"
          ],
          "name": "stdout"
        }
      ]
    },
    {
      "cell_type": "markdown",
      "metadata": {
        "id": "x7B05egsj-1u",
        "colab_type": "text"
      },
      "source": [
        "**L = 5**"
      ]
    },
    {
      "cell_type": "code",
      "metadata": {
        "id": "ofOr7SK-kUVX",
        "colab_type": "code",
        "colab": {}
      },
      "source": [
        "L = 5\n",
        "max_str = '1'*L\n",
        "max_int = int(max_str,2)"
      ],
      "execution_count": 0,
      "outputs": []
    },
    {
      "cell_type": "code",
      "metadata": {
        "id": "iGwCKmknvTs2",
        "colab_type": "code",
        "colab": {}
      },
      "source": [
        "data_size = 20000\n",
        "data = []\n",
        "\n",
        "for i in range(data_size):\n",
        "  data.append(gen_training_sample(L))\n",
        "  "
      ],
      "execution_count": 0,
      "outputs": []
    },
    {
      "cell_type": "code",
      "metadata": {
        "id": "FnhedNPjvwL5",
        "colab_type": "code",
        "colab": {}
      },
      "source": [
        "train_data,test_data, val_data = torch.utils.data.random_split(data, lengths= [16000,2000,2000])"
      ],
      "execution_count": 0,
      "outputs": []
    },
    {
      "cell_type": "code",
      "metadata": {
        "id": "v_qE8Mmjv8Kr",
        "colab_type": "code",
        "colab": {}
      },
      "source": [
        "train_loader = torch.utils.data.DataLoader(train_data, batch_size = 64, shuffle = True)\n",
        "val_loader = torch.utils.data.DataLoader(val_data, batch_size = 64, shuffle = True)\n",
        "test_loader = torch.utils.data.DataLoader(test_data, batch_size = 64, shuffle = True)"
      ],
      "execution_count": 0,
      "outputs": []
    },
    {
      "cell_type": "code",
      "metadata": {
        "id": "3xnye7oGkwMa",
        "colab_type": "code",
        "colab": {}
      },
      "source": [
        "sequence_length = L+1\n",
        "input_size = 2\n",
        "hidden_size = 5\n",
        "num_layers = 1\n",
        "num_classes = 1\n",
        "#batch_size = 64\n",
        "learning_rate = 0.001\n"
      ],
      "execution_count": 0,
      "outputs": []
    },
    {
      "cell_type": "code",
      "metadata": {
        "id": "HhP9ungql9aJ",
        "colab_type": "code",
        "colab": {}
      },
      "source": [
        "\n",
        "class model_LSTM(nn.Module):\n",
        "    def __init__(self, input_size, hidden_size, num_layers, num_classes):\n",
        "        super(model_LSTM, self).__init__()\n",
        "        self.hidden_size = hidden_size\n",
        "        self.num_layers = num_layers\n",
        "        self.LSTM1 = nn.LSTM(input_size, hidden_size, num_layers, batch_first=True)\n",
        "        self.fc = nn.Linear(hidden_size, num_classes)\n",
        "    \n",
        "    def forward(self, x):\n",
        "        # Set initial hidden and cell states \n",
        "        c0 = torch.zeros(self.num_layers, x.size(0), self.hidden_size)\n",
        "        h0 = torch.zeros(self.num_layers, x.size(0), self.hidden_size)\n",
        "        \n",
        "        # Forward propagate RNN\n",
        "        \n",
        "        out, _ = self.LSTM1(x, (h0,c0))  # out: tensor of shape (batch_size, seq_length, hidden_size)\n",
        "        out1 = out.contiguous().view(-1,hidden_size)\n",
        "        # Decode the hidden state of the last time step\n",
        "    \n",
        "        out = self.fc(out1)\n",
        "        #out = F.sigmoid(out)\n",
        "        return out\n",
        "\n",
        "model = model_LSTM(input_size, hidden_size, num_layers, num_classes)\n",
        "model = model"
      ],
      "execution_count": 0,
      "outputs": []
    },
    {
      "cell_type": "code",
      "metadata": {
        "id": "p82NmDFoky6E",
        "colab_type": "code",
        "colab": {}
      },
      "source": [
        "criterion = nn.MSELoss()\n",
        "optimizer = torch.optim.Adam(model.parameters(), lr=learning_rate)"
      ],
      "execution_count": 0,
      "outputs": []
    },
    {
      "cell_type": "code",
      "metadata": {
        "id": "a6rPWF6Dk5rd",
        "colab_type": "code",
        "colab": {
          "base_uri": "https://localhost:8080/",
          "height": 218
        },
        "outputId": "b527f968-d229-4af0-d864-e82da2a5182d"
      },
      "source": [
        "\n",
        "num_epochs = 10\n",
        "total_step = len(train_loader)\n",
        "val_error = []\n",
        "train_error = []\n",
        "j = 0\n",
        "for epoch in range(num_epochs):\n",
        "    for i, (input1,input2, labels) in enumerate(train_loader):\n",
        "        j = j + 1\n",
        "        input1 = torch.flip(input1,[1])\n",
        "        input2 = torch.flip(input2,[1])\n",
        "        labels = torch.flip(labels,[1])\n",
        "        input1 = input1.reshape(-1, sequence_length, 1)\n",
        "        input2 = input2.reshape(-1, sequence_length, 1)\n",
        "        final_input = torch.cat((input1,input2),2)\n",
        "        # Forward pass\n",
        "        outputs = model(final_input)\n",
        "        outputs = outputs.view(-1,L+1)\n",
        "       \n",
        "        #labels = torch.Tensor(labels).type(torch.LongTensor)\n",
        "        loss = criterion(outputs, labels)\n",
        "        \n",
        "        \n",
        "        # Backward and optimize\n",
        "        optimizer.zero_grad()\n",
        "        loss.backward()\n",
        "        optimizer.step()\n",
        "        \n",
        "        \n",
        "        if (j%200==0):\n",
        "          val_acc = bit_accuracy(val_loader)\n",
        "          train_acc = bit_accuracy(train_loader)\n",
        "          print('Train Epoch: {} [{}/{}]({:.0f}%)]\\ttrain_acc: {:.6f}\\tval_acc: {:.6f}'.format(\n",
        "                epoch, i * len(images), len(train_loader.dataset),100. * i / len(train_loader),\n",
        "                train_acc,val_acc))\n",
        "          val_error.append(1-train_acc)\n",
        "          train_error.append(1-val_acc)\n",
        "\n",
        "    \n",
        "   "
      ],
      "execution_count": 789,
      "outputs": [
        {
          "output_type": "stream",
          "text": [
            "Train Epoch: 0 [12736/16000](80%)]\ttrain_acc: 0.567792\tval_acc: 0.560167\n",
            "Train Epoch: 1 [9536/16000](60%)]\ttrain_acc: 0.616354\tval_acc: 0.608917\n",
            "Train Epoch: 2 [6336/16000](40%)]\ttrain_acc: 0.826302\tval_acc: 0.822083\n",
            "Train Epoch: 3 [3136/16000](20%)]\ttrain_acc: 0.930583\tval_acc: 0.929833\n",
            "Train Epoch: 3 [15936/16000](100%)]\ttrain_acc: 0.937010\tval_acc: 0.935917\n",
            "Train Epoch: 4 [12736/16000](80%)]\ttrain_acc: 0.971990\tval_acc: 0.973583\n",
            "Train Epoch: 5 [9536/16000](60%)]\ttrain_acc: 0.997990\tval_acc: 0.998083\n",
            "Train Epoch: 6 [6336/16000](40%)]\ttrain_acc: 1.000000\tval_acc: 1.000000\n",
            "Train Epoch: 7 [3136/16000](20%)]\ttrain_acc: 1.000000\tval_acc: 1.000000\n",
            "Train Epoch: 7 [15936/16000](100%)]\ttrain_acc: 1.000000\tval_acc: 1.000000\n",
            "Train Epoch: 8 [12736/16000](80%)]\ttrain_acc: 1.000000\tval_acc: 1.000000\n",
            "Train Epoch: 9 [9536/16000](60%)]\ttrain_acc: 1.000000\tval_acc: 1.000000\n"
          ],
          "name": "stdout"
        }
      ]
    },
    {
      "cell_type": "code",
      "metadata": {
        "id": "9ce_9tTFk8fh",
        "colab_type": "code",
        "colab": {
          "base_uri": "https://localhost:8080/",
          "height": 296
        },
        "outputId": "ff93da88-d27d-4412-8a33-d9e309c336eb"
      },
      "source": [
        "epoch = [i for i in range(1,len(val_error)+1)]\n",
        "plt.plot(epoch,val_error,'-r')\n",
        "plt.plot(epoch,train_error,'-b')\n",
        "plt.title('Train and validation error')\n",
        "plt.xlabel('n_iterations')\n",
        "plt.ylabel('Error')\n",
        "plt.gca().legend(('validation error','train error'))\n",
        "plt.show()"
      ],
      "execution_count": 790,
      "outputs": [
        {
          "output_type": "display_data",
          "data": {
            "image/png": "[encoded data removed]",
            "text/plain": [
              "<Figure size 432x288 with 1 Axes>"
            ]
          },
          "metadata": {
            "tags": []
          }
        }
      ]
    },
    {
      "cell_type": "code",
      "metadata": {
        "id": "nUkzmdJylCfH",
        "colab_type": "code",
        "colab": {
          "base_uri": "https://localhost:8080/",
          "height": 34
        },
        "outputId": "20b4084c-1093-4179-cc59-3ca5a8e28602"
      },
      "source": [
        "print('bit accuracy on test samples:',bit_accuracy(test_loader)*100,'%')"
      ],
      "execution_count": 791,
      "outputs": [
        {
          "output_type": "stream",
          "text": [
            "bit accuracy on test samples: 100.0 %\n"
          ],
          "name": "stdout"
        }
      ]
    },
    {
      "cell_type": "markdown",
      "metadata": {
        "id": "em7yHCUalNRu",
        "colab_type": "text"
      },
      "source": [
        "**L=10**"
      ]
    },
    {
      "cell_type": "code",
      "metadata": {
        "id": "XuQDN07llJl7",
        "colab_type": "code",
        "colab": {}
      },
      "source": [
        "L = 10\n",
        "max_str = '1'*L\n",
        "max_int = int(max_str,2)"
      ],
      "execution_count": 0,
      "outputs": []
    },
    {
      "cell_type": "code",
      "metadata": {
        "id": "ojaZMclvlS5a",
        "colab_type": "code",
        "colab": {}
      },
      "source": [
        "data_size = 20000\n",
        "data = []\n",
        "\n",
        "for i in range(data_size):\n",
        "  data.append(gen_training_sample(L))\n",
        "  "
      ],
      "execution_count": 0,
      "outputs": []
    },
    {
      "cell_type": "code",
      "metadata": {
        "id": "4JB4kKTKlV45",
        "colab_type": "code",
        "colab": {}
      },
      "source": [
        "train_data,test_data, val_data = torch.utils.data.random_split(data, lengths= [16000,2000,2000])"
      ],
      "execution_count": 0,
      "outputs": []
    },
    {
      "cell_type": "code",
      "metadata": {
        "id": "gsK8BByYlYtu",
        "colab_type": "code",
        "colab": {}
      },
      "source": [
        "train_loader = torch.utils.data.DataLoader(train_data, batch_size = 64, shuffle = True)\n",
        "val_loader = torch.utils.data.DataLoader(val_data, batch_size = 64, shuffle = True)\n",
        "test_loader = torch.utils.data.DataLoader(test_data, batch_size = 64, shuffle = True)"
      ],
      "execution_count": 0,
      "outputs": []
    },
    {
      "cell_type": "code",
      "metadata": {
        "id": "yJsdHMOulbek",
        "colab_type": "code",
        "colab": {}
      },
      "source": [
        "sequence_length = L+1\n",
        "input_size = 2\n",
        "hidden_size = 8\n",
        "num_layers = 1\n",
        "num_classes = 1\n",
        "#batch_size = 64\n",
        "learning_rate = 0.001\n"
      ],
      "execution_count": 0,
      "outputs": []
    },
    {
      "cell_type": "code",
      "metadata": {
        "id": "47Hf_4mamFxw",
        "colab_type": "code",
        "colab": {}
      },
      "source": [
        "\n",
        "class model_LSTM(nn.Module):\n",
        "    def __init__(self, input_size, hidden_size, num_layers, num_classes):\n",
        "        super(model_LSTM, self).__init__()\n",
        "        self.hidden_size = hidden_size\n",
        "        self.num_layers = num_layers\n",
        "        self.LSTM1 = nn.LSTM(input_size, hidden_size, num_layers, batch_first=True)\n",
        "        self.fc = nn.Linear(hidden_size, num_classes)\n",
        "    \n",
        "    def forward(self, x):\n",
        "        # Set initial hidden and cell states \n",
        "        c0 = torch.zeros(self.num_layers, x.size(0), self.hidden_size)\n",
        "        h0 = torch.zeros(self.num_layers, x.size(0), self.hidden_size)\n",
        "        \n",
        "        # Forward propagate RNN\n",
        "        \n",
        "        out, _ = self.LSTM1(x, (h0,c0))  # out: tensor of shape (batch_size, seq_length, hidden_size)\n",
        "        out1 = out.contiguous().view(-1,hidden_size)\n",
        "        # Decode the hidden state of the last time step\n",
        "    \n",
        "        out = self.fc(out1)\n",
        "        #out = F.sigmoid(out)\n",
        "        return out\n",
        "\n",
        "model = model_LSTM(input_size, hidden_size, num_layers, num_classes)\n",
        "model = model"
      ],
      "execution_count": 0,
      "outputs": []
    },
    {
      "cell_type": "code",
      "metadata": {
        "id": "0rhLJ8rDleSf",
        "colab_type": "code",
        "colab": {}
      },
      "source": [
        "criterion = nn.MSELoss()\n",
        "optimizer = torch.optim.Adam(model.parameters(), lr=learning_rate)"
      ],
      "execution_count": 0,
      "outputs": []
    },
    {
      "cell_type": "code",
      "metadata": {
        "id": "9HiIQ39Clhkw",
        "colab_type": "code",
        "colab": {
          "base_uri": "https://localhost:8080/",
          "height": 218
        },
        "outputId": "5b13369c-5540-498a-fd64-7b05ac4ab6a3"
      },
      "source": [
        "\n",
        "num_epochs = 10\n",
        "total_step = len(train_loader)\n",
        "val_error = []\n",
        "train_error = []\n",
        "j = 0\n",
        "for epoch in range(num_epochs):\n",
        "    for i, (input1,input2, labels) in enumerate(train_loader):\n",
        "        j = j + 1\n",
        "        input1 = torch.flip(input1,[1])\n",
        "        input2 = torch.flip(input2,[1])\n",
        "        labels = torch.flip(labels,[1])\n",
        "        input1 = input1.reshape(-1, sequence_length, 1)\n",
        "        input2 = input2.reshape(-1, sequence_length, 1)\n",
        "        final_input = torch.cat((input1,input2),2)\n",
        "        # Forward pass\n",
        "        outputs = model(final_input)\n",
        "        outputs = outputs.view(-1,L+1)\n",
        "       \n",
        "        #labels = torch.Tensor(labels).type(torch.LongTensor)\n",
        "        loss = criterion(outputs, labels)\n",
        "        \n",
        "        \n",
        "        # Backward and optimize\n",
        "        optimizer.zero_grad()\n",
        "        loss.backward()\n",
        "        optimizer.step()\n",
        "        \n",
        "        \n",
        "        if (j%200==0):\n",
        "          val_acc = bit_accuracy(val_loader)\n",
        "          train_acc = bit_accuracy(train_loader)\n",
        "          print('Train Epoch: {} [{}/{}]({:.0f}%)]\\ttrain_acc: {:.6f}\\tval_acc: {:.6f}'.format(\n",
        "                epoch, i * len(images), len(train_loader.dataset),100. * i / len(train_loader),\n",
        "                train_acc,val_acc))\n",
        "          val_error.append(1-train_acc)\n",
        "          train_error.append(1-val_acc)\n",
        "\n",
        "    \n",
        "   "
      ],
      "execution_count": 805,
      "outputs": [
        {
          "output_type": "stream",
          "text": [
            "Train Epoch: 0 [12736/16000](80%)]\ttrain_acc: 0.516415\tval_acc: 0.511000\n",
            "Train Epoch: 1 [9536/16000](60%)]\ttrain_acc: 0.500909\tval_acc: 0.494864\n",
            "Train Epoch: 2 [6336/16000](40%)]\ttrain_acc: 0.543489\tval_acc: 0.541591\n",
            "Train Epoch: 3 [3136/16000](20%)]\ttrain_acc: 0.643557\tval_acc: 0.644636\n",
            "Train Epoch: 3 [15936/16000](100%)]\ttrain_acc: 0.619091\tval_acc: 0.619636\n",
            "Train Epoch: 4 [12736/16000](80%)]\ttrain_acc: 0.688773\tval_acc: 0.687136\n",
            "Train Epoch: 5 [9536/16000](60%)]\ttrain_acc: 0.808966\tval_acc: 0.810409\n",
            "Train Epoch: 6 [6336/16000](40%)]\ttrain_acc: 0.974693\tval_acc: 0.975364\n",
            "Train Epoch: 7 [3136/16000](20%)]\ttrain_acc: 1.000000\tval_acc: 1.000000\n",
            "Train Epoch: 7 [15936/16000](100%)]\ttrain_acc: 1.000000\tval_acc: 1.000000\n",
            "Train Epoch: 8 [12736/16000](80%)]\ttrain_acc: 1.000000\tval_acc: 1.000000\n",
            "Train Epoch: 9 [9536/16000](60%)]\ttrain_acc: 1.000000\tval_acc: 1.000000\n"
          ],
          "name": "stdout"
        }
      ]
    },
    {
      "cell_type": "code",
      "metadata": {
        "id": "EXs7GwcnlkvD",
        "colab_type": "code",
        "colab": {
          "base_uri": "https://localhost:8080/",
          "height": 296
        },
        "outputId": "24c78271-2ca1-422e-f26c-2b4de3e378a5"
      },
      "source": [
        "epoch = [i for i in range(1,len(val_error)+1)]\n",
        "plt.plot(epoch,val_error,'-r')\n",
        "plt.plot(epoch,train_error,'-b')\n",
        "plt.title('Train and validation error')\n",
        "plt.xlabel('n_iterations')\n",
        "plt.ylabel('Error')\n",
        "plt.gca().legend(('validation error','train error'))\n",
        "plt.show()"
      ],
      "execution_count": 806,
      "outputs": [
        {
          "output_type": "display_data",
          "data": {
            "image/png": "[encoded data removed]",
            "text/plain": [
              "<Figure size 432x288 with 1 Axes>"
            ]
          },
          "metadata": {
            "tags": []
          }
        }
      ]
    },
    {
      "cell_type": "code",
      "metadata": {
        "id": "mWJpAqscmLE9",
        "colab_type": "code",
        "colab": {
          "base_uri": "https://localhost:8080/",
          "height": 34
        },
        "outputId": "3ea67c71-e5d1-44b4-d0ba-b10dd6778146"
      },
      "source": [
        "print('bit accuracy on test samples:',bit_accuracy(test_loader)*100,'%')"
      ],
      "execution_count": 807,
      "outputs": [
        {
          "output_type": "stream",
          "text": [
            "bit accuracy on test samples: 100.0 %\n"
          ],
          "name": "stdout"
        }
      ]
    },
    {
      "cell_type": "markdown",
      "metadata": {
        "id": "13HOeUUroWx0",
        "colab_type": "text"
      },
      "source": [
        "With all L = 3,5 ,10 network was able to completely add two binary sequence with almost 100 % accuracy."
      ]
    },
    {
      "cell_type": "code",
      "metadata": {
        "id": "i3eB_CeyojxB",
        "colab_type": "code",
        "colab": {}
      },
      "source": [
        ""
      ],
      "execution_count": 0,
      "outputs": []
    }
  ]
}